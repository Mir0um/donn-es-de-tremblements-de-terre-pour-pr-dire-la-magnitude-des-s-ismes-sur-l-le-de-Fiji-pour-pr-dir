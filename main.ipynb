{
 "cells": [
  {
   "cell_type": "markdown",
   "metadata": {
    "id": "I2qCjLQPf4Xc"
   },
   "source": [
    "# packege python"
   ]
  },
  {
   "cell_type": "markdown",
   "metadata": {
    "id": "GlZIfS40k87A"
   },
   "source": [
    "telechagement de paquer reki"
   ]
  },
  {
   "cell_type": "code",
   "execution_count": 1,
   "metadata": {
    "colab": {
     "base_uri": "https://localhost:8080/"
    },
    "id": "HqFghzcYdd2w",
    "outputId": "a3c26127-defa-4223-cbd9-72701f6d238d"
   },
   "outputs": [
    {
     "name": "stdout",
     "output_type": "stream",
     "text": [
      "ERROR: unknown command \"insatll\" - maybe you meant \"install\"\n",
      "Requirement already satisfied: pandas in ./venv/lib/python3.10/site-packages (1.5.3)\n",
      "Requirement already satisfied: numpy>=1.21.0 in ./venv/lib/python3.10/site-packages (from pandas) (1.24.1)\n",
      "Requirement already satisfied: pytz>=2020.1 in ./venv/lib/python3.10/site-packages (from pandas) (2022.7.1)\n",
      "Requirement already satisfied: python-dateutil>=2.8.1 in ./venv/lib/python3.10/site-packages (from pandas) (2.8.2)\n",
      "Requirement already satisfied: six>=1.5 in ./venv/lib/python3.10/site-packages (from python-dateutil>=2.8.1->pandas) (1.16.0)\n",
      "Requirement already satisfied: plotly in ./venv/lib/python3.10/site-packages (5.12.0)\n",
      "Requirement already satisfied: tenacity>=6.2.0 in ./venv/lib/python3.10/site-packages (from plotly) (8.1.0)\n",
      "ERROR: unknown command \"insatll\" - maybe you meant \"install\"\n",
      "Requirement already satisfied: nbformat in ./venv/lib/python3.10/site-packages (5.7.3)\n",
      "Requirement already satisfied: jsonschema>=2.6 in ./venv/lib/python3.10/site-packages (from nbformat) (4.17.3)\n",
      "Requirement already satisfied: jupyter-core in ./venv/lib/python3.10/site-packages (from nbformat) (5.1.3)\n",
      "Requirement already satisfied: traitlets>=5.1 in ./venv/lib/python3.10/site-packages (from nbformat) (5.8.1)\n",
      "Requirement already satisfied: fastjsonschema in ./venv/lib/python3.10/site-packages (from nbformat) (2.16.2)\n",
      "Requirement already satisfied: attrs>=17.4.0 in ./venv/lib/python3.10/site-packages (from jsonschema>=2.6->nbformat) (22.2.0)\n",
      "Requirement already satisfied: pyrsistent!=0.17.0,!=0.17.1,!=0.17.2,>=0.14.0 in ./venv/lib/python3.10/site-packages (from jsonschema>=2.6->nbformat) (0.19.3)\n",
      "Requirement already satisfied: platformdirs>=2.5 in ./venv/lib/python3.10/site-packages (from jupyter-core->nbformat) (2.6.2)\n",
      "Requirement already satisfied: geopandas in ./venv/lib/python3.10/site-packages (0.12.2)\n",
      "Requirement already satisfied: pyproj>=2.6.1.post1 in ./venv/lib/python3.10/site-packages (from geopandas) (3.4.1)\n",
      "Requirement already satisfied: fiona>=1.8 in ./venv/lib/python3.10/site-packages (from geopandas) (1.8.22)\n",
      "Requirement already satisfied: packaging in ./venv/lib/python3.10/site-packages (from geopandas) (23.0)\n",
      "Requirement already satisfied: shapely>=1.7 in ./venv/lib/python3.10/site-packages (from geopandas) (2.0.0)\n",
      "Requirement already satisfied: pandas>=1.0.0 in ./venv/lib/python3.10/site-packages (from geopandas) (1.5.3)\n",
      "Requirement already satisfied: attrs>=17 in ./venv/lib/python3.10/site-packages (from fiona>=1.8->geopandas) (22.2.0)\n",
      "Requirement already satisfied: cligj>=0.5 in ./venv/lib/python3.10/site-packages (from fiona>=1.8->geopandas) (0.7.2)\n",
      "Requirement already satisfied: setuptools in ./venv/lib/python3.10/site-packages (from fiona>=1.8->geopandas) (65.5.1)\n",
      "Requirement already satisfied: click-plugins>=1.0 in ./venv/lib/python3.10/site-packages (from fiona>=1.8->geopandas) (1.1.1)\n",
      "Requirement already satisfied: munch in ./venv/lib/python3.10/site-packages (from fiona>=1.8->geopandas) (2.5.0)\n",
      "Requirement already satisfied: six>=1.7 in ./venv/lib/python3.10/site-packages (from fiona>=1.8->geopandas) (1.16.0)\n",
      "Requirement already satisfied: click>=4.0 in ./venv/lib/python3.10/site-packages (from fiona>=1.8->geopandas) (8.1.3)\n",
      "Requirement already satisfied: certifi in ./venv/lib/python3.10/site-packages (from fiona>=1.8->geopandas) (2022.12.7)\n",
      "Requirement already satisfied: pytz>=2020.1 in ./venv/lib/python3.10/site-packages (from pandas>=1.0.0->geopandas) (2022.7.1)\n",
      "Requirement already satisfied: numpy>=1.21.0 in ./venv/lib/python3.10/site-packages (from pandas>=1.0.0->geopandas) (1.24.1)\n",
      "Requirement already satisfied: python-dateutil>=2.8.1 in ./venv/lib/python3.10/site-packages (from pandas>=1.0.0->geopandas) (2.8.2)\n",
      "Requirement already satisfied: contextily in ./venv/lib/python3.10/site-packages (1.2.0)\n",
      "Requirement already satisfied: matplotlib in ./venv/lib/python3.10/site-packages (from contextily) (3.6.3)\n",
      "Requirement already satisfied: joblib in ./venv/lib/python3.10/site-packages (from contextily) (1.2.0)\n",
      "Requirement already satisfied: rasterio in ./venv/lib/python3.10/site-packages (from contextily) (1.3.4)\n",
      "Requirement already satisfied: requests in ./venv/lib/python3.10/site-packages (from contextily) (2.28.2)\n",
      "Requirement already satisfied: geopy in ./venv/lib/python3.10/site-packages (from contextily) (2.3.0)\n",
      "Requirement already satisfied: mercantile in ./venv/lib/python3.10/site-packages (from contextily) (1.2.1)\n",
      "Requirement already satisfied: xyzservices in ./venv/lib/python3.10/site-packages (from contextily) (2022.9.0)\n",
      "Requirement already satisfied: pillow in ./venv/lib/python3.10/site-packages (from contextily) (9.4.0)\n",
      "Requirement already satisfied: geographiclib<3,>=1.52 in ./venv/lib/python3.10/site-packages (from geopy->contextily) (2.0)\n",
      "Requirement already satisfied: numpy>=1.19 in ./venv/lib/python3.10/site-packages (from matplotlib->contextily) (1.24.1)\n",
      "Requirement already satisfied: fonttools>=4.22.0 in ./venv/lib/python3.10/site-packages (from matplotlib->contextily) (4.38.0)\n",
      "Requirement already satisfied: pyparsing>=2.2.1 in ./venv/lib/python3.10/site-packages (from matplotlib->contextily) (3.0.9)\n",
      "Requirement already satisfied: kiwisolver>=1.0.1 in ./venv/lib/python3.10/site-packages (from matplotlib->contextily) (1.4.4)\n",
      "Requirement already satisfied: contourpy>=1.0.1 in ./venv/lib/python3.10/site-packages (from matplotlib->contextily) (1.0.7)\n",
      "Requirement already satisfied: packaging>=20.0 in ./venv/lib/python3.10/site-packages (from matplotlib->contextily) (23.0)\n",
      "Requirement already satisfied: python-dateutil>=2.7 in ./venv/lib/python3.10/site-packages (from matplotlib->contextily) (2.8.2)\n",
      "Requirement already satisfied: cycler>=0.10 in ./venv/lib/python3.10/site-packages (from matplotlib->contextily) (0.11.0)\n",
      "Requirement already satisfied: click>=3.0 in ./venv/lib/python3.10/site-packages (from mercantile->contextily) (8.1.3)\n",
      "Requirement already satisfied: certifi in ./venv/lib/python3.10/site-packages (from rasterio->contextily) (2022.12.7)\n",
      "Requirement already satisfied: setuptools in ./venv/lib/python3.10/site-packages (from rasterio->contextily) (65.5.1)\n",
      "Requirement already satisfied: attrs in ./venv/lib/python3.10/site-packages (from rasterio->contextily) (22.2.0)\n",
      "Requirement already satisfied: snuggs>=1.4.1 in ./venv/lib/python3.10/site-packages (from rasterio->contextily) (1.4.7)\n",
      "Requirement already satisfied: cligj>=0.5 in ./venv/lib/python3.10/site-packages (from rasterio->contextily) (0.7.2)\n",
      "Requirement already satisfied: click-plugins in ./venv/lib/python3.10/site-packages (from rasterio->contextily) (1.1.1)\n",
      "Requirement already satisfied: affine in ./venv/lib/python3.10/site-packages (from rasterio->contextily) (2.4.0)\n",
      "Requirement already satisfied: charset-normalizer<4,>=2 in ./venv/lib/python3.10/site-packages (from requests->contextily) (3.0.1)\n",
      "Requirement already satisfied: idna<4,>=2.5 in ./venv/lib/python3.10/site-packages (from requests->contextily) (3.4)\n",
      "Requirement already satisfied: urllib3<1.27,>=1.21.1 in ./venv/lib/python3.10/site-packages (from requests->contextily) (1.26.14)\n",
      "Requirement already satisfied: six>=1.5 in ./venv/lib/python3.10/site-packages (from python-dateutil>=2.7->matplotlib->contextily) (1.16.0)\n",
      "Requirement already satisfied: tensorflow in ./venv/lib/python3.10/site-packages (2.11.0)\n",
      "Requirement already satisfied: keras<2.12,>=2.11.0 in ./venv/lib/python3.10/site-packages (from tensorflow) (2.11.0)\n",
      "Requirement already satisfied: grpcio<2.0,>=1.24.3 in ./venv/lib/python3.10/site-packages (from tensorflow) (1.51.1)\n",
      "Requirement already satisfied: tensorboard<2.12,>=2.11 in ./venv/lib/python3.10/site-packages (from tensorflow) (2.11.2)\n",
      "Requirement already satisfied: gast<=0.4.0,>=0.2.1 in ./venv/lib/python3.10/site-packages (from tensorflow) (0.4.0)\n",
      "Requirement already satisfied: flatbuffers>=2.0 in ./venv/lib/python3.10/site-packages (from tensorflow) (23.1.21)\n",
      "Requirement already satisfied: h5py>=2.9.0 in ./venv/lib/python3.10/site-packages (from tensorflow) (3.8.0)\n",
      "Requirement already satisfied: wrapt>=1.11.0 in ./venv/lib/python3.10/site-packages (from tensorflow) (1.14.1)\n",
      "Requirement already satisfied: google-pasta>=0.1.1 in ./venv/lib/python3.10/site-packages (from tensorflow) (0.2.0)\n",
      "Requirement already satisfied: opt-einsum>=2.3.2 in ./venv/lib/python3.10/site-packages (from tensorflow) (3.3.0)\n",
      "Requirement already satisfied: protobuf<3.20,>=3.9.2 in ./venv/lib/python3.10/site-packages (from tensorflow) (3.19.6)\n",
      "Requirement already satisfied: setuptools in ./venv/lib/python3.10/site-packages (from tensorflow) (65.5.1)\n",
      "Requirement already satisfied: numpy>=1.20 in ./venv/lib/python3.10/site-packages (from tensorflow) (1.24.1)\n",
      "Requirement already satisfied: libclang>=13.0.0 in ./venv/lib/python3.10/site-packages (from tensorflow) (15.0.6.1)\n",
      "Requirement already satisfied: typing-extensions>=3.6.6 in ./venv/lib/python3.10/site-packages (from tensorflow) (4.4.0)\n",
      "Requirement already satisfied: absl-py>=1.0.0 in ./venv/lib/python3.10/site-packages (from tensorflow) (1.4.0)\n",
      "Requirement already satisfied: tensorflow-io-gcs-filesystem>=0.23.1 in ./venv/lib/python3.10/site-packages (from tensorflow) (0.30.0)\n",
      "Requirement already satisfied: tensorflow-estimator<2.12,>=2.11.0 in ./venv/lib/python3.10/site-packages (from tensorflow) (2.11.0)\n",
      "Requirement already satisfied: astunparse>=1.6.0 in ./venv/lib/python3.10/site-packages (from tensorflow) (1.6.3)\n",
      "Requirement already satisfied: packaging in ./venv/lib/python3.10/site-packages (from tensorflow) (23.0)\n",
      "Requirement already satisfied: six>=1.12.0 in ./venv/lib/python3.10/site-packages (from tensorflow) (1.16.0)\n",
      "Requirement already satisfied: termcolor>=1.1.0 in ./venv/lib/python3.10/site-packages (from tensorflow) (2.2.0)\n",
      "Requirement already satisfied: wheel<1.0,>=0.23.0 in ./venv/lib/python3.10/site-packages (from astunparse>=1.6.0->tensorflow) (0.38.4)\n",
      "Requirement already satisfied: google-auth-oauthlib<0.5,>=0.4.1 in ./venv/lib/python3.10/site-packages (from tensorboard<2.12,>=2.11->tensorflow) (0.4.6)\n",
      "Requirement already satisfied: google-auth<3,>=1.6.3 in ./venv/lib/python3.10/site-packages (from tensorboard<2.12,>=2.11->tensorflow) (2.16.0)\n",
      "Requirement already satisfied: markdown>=2.6.8 in ./venv/lib/python3.10/site-packages (from tensorboard<2.12,>=2.11->tensorflow) (3.4.1)\n",
      "Requirement already satisfied: werkzeug>=1.0.1 in ./venv/lib/python3.10/site-packages (from tensorboard<2.12,>=2.11->tensorflow) (2.2.2)\n",
      "Requirement already satisfied: tensorboard-data-server<0.7.0,>=0.6.0 in ./venv/lib/python3.10/site-packages (from tensorboard<2.12,>=2.11->tensorflow) (0.6.1)\n",
      "Requirement already satisfied: requests<3,>=2.21.0 in ./venv/lib/python3.10/site-packages (from tensorboard<2.12,>=2.11->tensorflow) (2.28.2)\n",
      "Requirement already satisfied: tensorboard-plugin-wit>=1.6.0 in ./venv/lib/python3.10/site-packages (from tensorboard<2.12,>=2.11->tensorflow) (1.8.1)\n",
      "Requirement already satisfied: pyasn1-modules>=0.2.1 in ./venv/lib/python3.10/site-packages (from google-auth<3,>=1.6.3->tensorboard<2.12,>=2.11->tensorflow) (0.2.8)\n",
      "Requirement already satisfied: rsa<5,>=3.1.4 in ./venv/lib/python3.10/site-packages (from google-auth<3,>=1.6.3->tensorboard<2.12,>=2.11->tensorflow) (4.9)\n",
      "Requirement already satisfied: cachetools<6.0,>=2.0.0 in ./venv/lib/python3.10/site-packages (from google-auth<3,>=1.6.3->tensorboard<2.12,>=2.11->tensorflow) (5.3.0)\n",
      "Requirement already satisfied: requests-oauthlib>=0.7.0 in ./venv/lib/python3.10/site-packages (from google-auth-oauthlib<0.5,>=0.4.1->tensorboard<2.12,>=2.11->tensorflow) (1.3.1)\n",
      "Requirement already satisfied: charset-normalizer<4,>=2 in ./venv/lib/python3.10/site-packages (from requests<3,>=2.21.0->tensorboard<2.12,>=2.11->tensorflow) (3.0.1)\n",
      "Requirement already satisfied: urllib3<1.27,>=1.21.1 in ./venv/lib/python3.10/site-packages (from requests<3,>=2.21.0->tensorboard<2.12,>=2.11->tensorflow) (1.26.14)\n",
      "Requirement already satisfied: certifi>=2017.4.17 in ./venv/lib/python3.10/site-packages (from requests<3,>=2.21.0->tensorboard<2.12,>=2.11->tensorflow) (2022.12.7)\n",
      "Requirement already satisfied: idna<4,>=2.5 in ./venv/lib/python3.10/site-packages (from requests<3,>=2.21.0->tensorboard<2.12,>=2.11->tensorflow) (3.4)\n",
      "Requirement already satisfied: MarkupSafe>=2.1.1 in ./venv/lib/python3.10/site-packages (from werkzeug>=1.0.1->tensorboard<2.12,>=2.11->tensorflow) (2.1.2)\n",
      "Requirement already satisfied: pyasn1<0.5.0,>=0.4.6 in ./venv/lib/python3.10/site-packages (from pyasn1-modules>=0.2.1->google-auth<3,>=1.6.3->tensorboard<2.12,>=2.11->tensorflow) (0.4.8)\n",
      "Requirement already satisfied: oauthlib>=3.0.0 in ./venv/lib/python3.10/site-packages (from requests-oauthlib>=0.7.0->google-auth-oauthlib<0.5,>=0.4.1->tensorboard<2.12,>=2.11->tensorflow) (3.2.2)\n",
      "Requirement already satisfied: matplotlib in ./venv/lib/python3.10/site-packages (3.6.3)\n",
      "Requirement already satisfied: fonttools>=4.22.0 in ./venv/lib/python3.10/site-packages (from matplotlib) (4.38.0)\n",
      "Requirement already satisfied: cycler>=0.10 in ./venv/lib/python3.10/site-packages (from matplotlib) (0.11.0)\n",
      "Requirement already satisfied: kiwisolver>=1.0.1 in ./venv/lib/python3.10/site-packages (from matplotlib) (1.4.4)\n",
      "Requirement already satisfied: numpy>=1.19 in ./venv/lib/python3.10/site-packages (from matplotlib) (1.24.1)\n",
      "Requirement already satisfied: pillow>=6.2.0 in ./venv/lib/python3.10/site-packages (from matplotlib) (9.4.0)\n",
      "Requirement already satisfied: contourpy>=1.0.1 in ./venv/lib/python3.10/site-packages (from matplotlib) (1.0.7)\n",
      "Requirement already satisfied: python-dateutil>=2.7 in ./venv/lib/python3.10/site-packages (from matplotlib) (2.8.2)\n",
      "Requirement already satisfied: packaging>=20.0 in ./venv/lib/python3.10/site-packages (from matplotlib) (23.0)\n",
      "Requirement already satisfied: pyparsing>=2.2.1 in ./venv/lib/python3.10/site-packages (from matplotlib) (3.0.9)\n",
      "Requirement already satisfied: six>=1.5 in ./venv/lib/python3.10/site-packages (from python-dateutil>=2.7->matplotlib) (1.16.0)\n",
      "Requirement already satisfied: nbformat in ./venv/lib/python3.10/site-packages (5.7.3)\n",
      "Requirement already satisfied: jupyter-core in ./venv/lib/python3.10/site-packages (from nbformat) (5.1.3)\n",
      "Requirement already satisfied: traitlets>=5.1 in ./venv/lib/python3.10/site-packages (from nbformat) (5.8.1)\n",
      "Requirement already satisfied: jsonschema>=2.6 in ./venv/lib/python3.10/site-packages (from nbformat) (4.17.3)\n",
      "Requirement already satisfied: fastjsonschema in ./venv/lib/python3.10/site-packages (from nbformat) (2.16.2)\n",
      "Requirement already satisfied: pyrsistent!=0.17.0,!=0.17.1,!=0.17.2,>=0.14.0 in ./venv/lib/python3.10/site-packages (from jsonschema>=2.6->nbformat) (0.19.3)\n",
      "Requirement already satisfied: attrs>=17.4.0 in ./venv/lib/python3.10/site-packages (from jsonschema>=2.6->nbformat) (22.2.0)\n",
      "Requirement already satisfied: platformdirs>=2.5 in ./venv/lib/python3.10/site-packages (from jupyter-core->nbformat) (2.6.2)\n"
     ]
    }
   ],
   "source": [
    "!pip insatll numpy\n",
    "!pip install pandas\n",
    "!pip install plotly\n",
    "!pip insatll sklearn\n",
    "!pip install nbformat\n",
    "!pip install geopandas\n",
    "!pip install contextily\n",
    "!pip install tensorflow\n",
    "!pip install matplotlib\n",
    "!pip install --upgrade nbformat"
   ]
  },
  {
   "cell_type": "markdown",
   "metadata": {
    "id": "NBS6f2telDBD"
   },
   "source": [
    "importation de packer"
   ]
  },
  {
   "cell_type": "code",
   "execution_count": 2,
   "metadata": {
    "id": "Yjpm7wYRdrSZ"
   },
   "outputs": [],
   "source": [
    "import numpy as np\n",
    "import pandas as pd\n",
    "import geopandas as gpd\n",
    "import geopandas as gpd7\n",
    "import contextily as ctx\n",
    "import plotly.express as px\n",
    "import matplotlib.pyplot as plt\n",
    "from shapely.geometry import Point\n"
   ]
  },
  {
   "cell_type": "markdown",
   "metadata": {
    "id": "3UD93Wjuf8wz"
   },
   "source": [
    "# importation de la data et clearing\n"
   ]
  },
  {
   "cell_type": "markdown",
   "metadata": {
    "id": "rtZLirfi3lcT"
   },
   "source": [
    "charcgement da la data et afichage des premier lign."
   ]
  },
  {
   "cell_type": "code",
   "execution_count": 3,
   "metadata": {
    "colab": {
     "base_uri": "https://localhost:8080/"
    },
    "id": "ZT1SaYT-gAXo",
    "outputId": "4859b0d5-2551-4e01-e973-293991d4e4ee"
   },
   "outputs": [
    {
     "data": {
      "text/html": [
       "<div>\n",
       "<style scoped>\n",
       "    .dataframe tbody tr th:only-of-type {\n",
       "        vertical-align: middle;\n",
       "    }\n",
       "\n",
       "    .dataframe tbody tr th {\n",
       "        vertical-align: top;\n",
       "    }\n",
       "\n",
       "    .dataframe thead th {\n",
       "        text-align: right;\n",
       "    }\n",
       "</style>\n",
       "<table border=\"1\" class=\"dataframe\">\n",
       "  <thead>\n",
       "    <tr style=\"text-align: right;\">\n",
       "      <th></th>\n",
       "      <th>lat</th>\n",
       "      <th>long</th>\n",
       "      <th>depth</th>\n",
       "      <th>mag</th>\n",
       "      <th>stations</th>\n",
       "    </tr>\n",
       "  </thead>\n",
       "  <tbody>\n",
       "    <tr>\n",
       "      <th>0</th>\n",
       "      <td>-20.42</td>\n",
       "      <td>181.62</td>\n",
       "      <td>562</td>\n",
       "      <td>4.8</td>\n",
       "      <td>41</td>\n",
       "    </tr>\n",
       "    <tr>\n",
       "      <th>1</th>\n",
       "      <td>-20.62</td>\n",
       "      <td>181.03</td>\n",
       "      <td>650</td>\n",
       "      <td>4.2</td>\n",
       "      <td>15</td>\n",
       "    </tr>\n",
       "    <tr>\n",
       "      <th>2</th>\n",
       "      <td>-26.00</td>\n",
       "      <td>184.10</td>\n",
       "      <td>42</td>\n",
       "      <td>5.4</td>\n",
       "      <td>43</td>\n",
       "    </tr>\n",
       "    <tr>\n",
       "      <th>3</th>\n",
       "      <td>-17.97</td>\n",
       "      <td>181.66</td>\n",
       "      <td>626</td>\n",
       "      <td>4.1</td>\n",
       "      <td>19</td>\n",
       "    </tr>\n",
       "    <tr>\n",
       "      <th>4</th>\n",
       "      <td>-20.42</td>\n",
       "      <td>181.96</td>\n",
       "      <td>649</td>\n",
       "      <td>4.0</td>\n",
       "      <td>11</td>\n",
       "    </tr>\n",
       "  </tbody>\n",
       "</table>\n",
       "</div>"
      ],
      "text/plain": [
       "     lat    long  depth  mag  stations\n",
       "0 -20.42  181.62    562  4.8        41\n",
       "1 -20.62  181.03    650  4.2        15\n",
       "2 -26.00  184.10     42  5.4        43\n",
       "3 -17.97  181.66    626  4.1        19\n",
       "4 -20.42  181.96    649  4.0        11"
      ]
     },
     "execution_count": 3,
     "metadata": {},
     "output_type": "execute_result"
    }
   ],
   "source": [
    "data = pd.read_csv(\"https://jp-sartoris.online/data.csv\", sep=\";\") #df = pd.read_csv('https://raw.githubusercontent.com/plotly/datasets/master/earthquakes-23k.csv')\n",
    "data.head()"
   ]
  },
  {
   "cell_type": "markdown",
   "metadata": {
    "id": "istftfOnvzNr"
   },
   "source": [
    "verification si il ya des donner null"
   ]
  },
  {
   "cell_type": "code",
   "execution_count": 4,
   "metadata": {
    "colab": {
     "base_uri": "https://localhost:8080/"
    },
    "id": "jxcjU4oSfVV4",
    "outputId": "fdb6c71f-66bc-4914-8905-fd6ebc0fb02a"
   },
   "outputs": [
    {
     "data": {
      "text/plain": [
       "lat         0\n",
       "long        0\n",
       "depth       0\n",
       "mag         0\n",
       "stations    0\n",
       "dtype: int64"
      ]
     },
     "execution_count": 4,
     "metadata": {},
     "output_type": "execute_result"
    }
   ],
   "source": [
    "data.isnull().sum() #on verifi sa ya des null"
   ]
  },
  {
   "cell_type": "markdown",
   "metadata": {
    "id": "QcNy0HKiv67b"
   },
   "source": [
    "voir les propieter des donner"
   ]
  },
  {
   "cell_type": "code",
   "execution_count": 5,
   "metadata": {
    "colab": {
     "base_uri": "https://localhost:8080/"
    },
    "id": "DC4VUlAprfaH",
    "outputId": "9fc05e48-8665-4852-c908-1038a6e63ed5"
   },
   "outputs": [
    {
     "name": "stdout",
     "output_type": "stream",
     "text": [
      "<class 'pandas.core.frame.DataFrame'>\n",
      "RangeIndex: 1000 entries, 0 to 999\n",
      "Data columns (total 5 columns):\n",
      " #   Column    Non-Null Count  Dtype  \n",
      "---  ------    --------------  -----  \n",
      " 0   lat       1000 non-null   float64\n",
      " 1   long      1000 non-null   float64\n",
      " 2   depth     1000 non-null   int64  \n",
      " 3   mag       1000 non-null   float64\n",
      " 4   stations  1000 non-null   int64  \n",
      "dtypes: float64(3), int64(2)\n",
      "memory usage: 39.2 KB\n"
     ]
    }
   ],
   "source": [
    "data.info() #voir les infomraltion en +"
   ]
  },
  {
   "cell_type": "markdown",
   "metadata": {
    "id": "6I-JwBMLfH2k"
   },
   "source": [
    "# data visualitation"
   ]
  },
  {
   "cell_type": "markdown",
   "metadata": {
    "id": "8UDelLMJwEjr"
   },
   "source": [
    "vusualisation des outsateu et des moynne\n"
   ]
  },
  {
   "cell_type": "code",
   "execution_count": 6,
   "metadata": {
    "colab": {
     "base_uri": "https://localhost:8080/",
     "height": 1000
    },
    "id": "xp0bNa2frQjr",
    "outputId": "0c74ba29-a7d9-4df0-f1fa-cdd486953404"
   },
   "outputs": [
    {
     "data": {
      "image/png": "[encoded data removed]",
      "text/plain": [
       "<Figure size 640x480 with 1 Axes>"
      ]
     },
     "metadata": {},
     "output_type": "display_data"
    },
    {
     "data": {
      "image/png": "[encoded data removed]",
      "text/plain": [
       "<Figure size 640x480 with 1 Axes>"
      ]
     },
     "metadata": {},
     "output_type": "display_data"
    },
    {
     "data": {
      "image/png": "[encoded data removed]",
      "text/plain": [
       "<Figure size 640x480 with 1 Axes>"
      ]
     },
     "metadata": {},
     "output_type": "display_data"
    },
    {
     "data": {
      "image/png": "[encoded data removed]",
      "text/plain": [
       "<Figure size 640x480 with 1 Axes>"
      ]
     },
     "metadata": {},
     "output_type": "display_data"
    },
    {
     "data": {
      "image/png": "[encoded data removed]",
      "text/plain": [
       "<Figure size 640x480 with 1 Axes>"
      ]
     },
     "metadata": {},
     "output_type": "display_data"
    }
   ],
   "source": [
    "plt.boxplot([data[\"lat\"]])\n",
    "plt.title('lat')\n",
    "plt.show()\n",
    "\n",
    "plt.boxplot(data['long'])\n",
    "plt.title('long')\n",
    "plt.show()\n",
    "\n",
    "plt.boxplot(data['depth'])\n",
    "plt.title('depth')\n",
    "plt.show()\n",
    "\n",
    "plt.boxplot(data['mag'])\n",
    "plt.title('mag')\n",
    "plt.show()\n",
    "\n",
    "plt.boxplot(data['stations'])\n",
    "plt.title('sations')\n",
    "plt.show()\n"
   ]
  },
  {
   "cell_type": "code",
   "execution_count": 7,
   "metadata": {
    "colab": {
     "base_uri": "https://localhost:8080/",
     "height": 519
    },
    "id": "jZd9wYigz7L5",
    "outputId": "cdafbc47-38aa-4de1-f197-00aec942a292"
   },
   "outputs": [
    {
     "data": {
      "text/plain": [
       "Text(0.5, 1.0, 'nombre de sceisme pas magetude')"
      ]
     },
     "execution_count": 7,
     "metadata": {},
     "output_type": "execute_result"
    },
    {
     "data": {
      "image/png": "[encoded data removed]",
      "text/plain": [
       "<Figure size 1500x1000 with 1 Axes>"
      ]
     },
     "metadata": {},
     "output_type": "display_data"
    }
   ],
   "source": [
    "plt.figure(figsize=(15, 10))\n",
    "fd = data[[\"mag\",\"depth\"]]\n",
    "fd = fd.groupby([\"mag\"]).count()\n",
    "plt.plot(fd)\n",
    "\n",
    "plt.ylabel('nombre de seisme')\n",
    "plt.xlabel('magnetude')\n",
    "plt.title('nombre de sceisme pas magetude')"
   ]
  },
  {
   "cell_type": "code",
   "execution_count": 40,
   "metadata": {},
   "outputs": [
    {
     "data": {
      "text/plain": [
       "array([[-20.7 , 169.92, 139.  ,   6.1 ,  94.  ],\n",
       "       [-15.56, 167.62, 127.  ,   6.4 , 122.  ]])"
      ]
     },
     "execution_count": 40,
     "metadata": {},
     "output_type": "execute_result"
    }
   ],
   "source": [
    "data.loc[data['mag'] > 6].values"
   ]
  },
  {
   "cell_type": "code",
   "execution_count": 8,
   "metadata": {
    "colab": {
     "base_uri": "https://localhost:8080/",
     "height": 518
    },
    "id": "9w6w36kSYMK6",
    "outputId": "51f6513f-6528-43aa-e39d-1593db173550"
   },
   "outputs": [
    {
     "data": {
      "text/plain": [
       "Text(0.5, 1.0, 'magnetute en fonction de le profondeur')"
      ]
     },
     "execution_count": 8,
     "metadata": {},
     "output_type": "execute_result"
    },
    {
     "data": {
      "image/png": "[encoded data removed]",
      "text/plain": [
       "<Figure size 1500x1000 with 1 Axes>"
      ]
     },
     "metadata": {},
     "output_type": "display_data"
    }
   ],
   "source": [
    "plt.figure(figsize=(15, 10))\n",
    "fd = data[[\"mag\",\"depth\"]]\n",
    "fd = fd.groupby([\"mag\"]).mean() #.mean()\n",
    "plt.plot(fd)\n",
    "\n",
    "plt.ylabel('profondeur en KM')\n",
    "plt.xlabel('magnetude')\n",
    "plt.title('magnetute en fonction de le profondeur')"
   ]
  },
  {
   "cell_type": "code",
   "execution_count": 9,
   "metadata": {
    "colab": {
     "base_uri": "https://localhost:8080/",
     "height": 521
    },
    "id": "RYHdUvG2uNVd",
    "outputId": "6c55099b-ee7b-47e0-823b-de26668aab1f"
   },
   "outputs": [
    {
     "data": {
      "text/plain": [
       "Text(0.5, 1.0, 'nonbre de station qui on resentie le sceism en par magnetude')"
      ]
     },
     "execution_count": 9,
     "metadata": {},
     "output_type": "execute_result"
    },
    {
     "data": {
      "image/png": "[encoded data removed]",
      "text/plain": [
       "<Figure size 1500x1000 with 1 Axes>"
      ]
     },
     "metadata": {},
     "output_type": "display_data"
    }
   ],
   "source": [
    "plt.figure(figsize=(15, 10))\n",
    "\n",
    "fd = data[[\"mag\",\"stations\"]]\n",
    "fd = fd.groupby([\"stations\"]).mean()\n",
    "plt.plot(fd)\n",
    "\n",
    "plt.ylabel('magnedude')\n",
    "plt.xlabel('nombre de startions')\n",
    "plt.title('nonbre de station qui on resentie le sceism en par magnetude')"
   ]
  },
  {
   "cell_type": "code",
   "execution_count": 10,
   "metadata": {
    "colab": {
     "base_uri": "https://localhost:8080/",
     "height": 282
    },
    "id": "07J_41tnfWzr",
    "outputId": "eeb48acb-b005-4fb0-bef1-c71a4ce29bb6"
   },
   "outputs": [
    {
     "data": {
      "image/png": "[encoded data removed]",
      "text/plain": [
       "<Figure size 640x480 with 1 Axes>"
      ]
     },
     "metadata": {},
     "output_type": "display_data"
    }
   ],
   "source": [
    "\n",
    "\n",
    "# Create the GeoDataFrame\n",
    "gdf = gpd.GeoDataFrame(\n",
    "    {'lon': data[\"long\"], 'lat': data[\"lat\"]},\n",
    "    geometry=gpd.points_from_xy(data[\"long\"], data[\"lat\"]))\n",
    "\n",
    "# Plot the data\n",
    "\n",
    "ax = gdf.plot(markersize=3)\n",
    "\n",
    "# Add a map as the background and zoom in to level 15\n",
    "ctx.add_basemap(ax, zoom=15, crs=gdf.crs)\n",
    "# Show the plot\n",
    "plt.show()\n"
   ]
  },
  {
   "cell_type": "markdown",
   "metadata": {
    "id": "MW9BZSmA_s6M"
   },
   "source": []
  },
  {
   "cell_type": "markdown",
   "metadata": {
    "id": "5NipISKFkmfk"
   },
   "source": [
    "-33.63969241783398, *150.95048848561237*"
   ]
  },
  {
   "cell_type": "code",
   "execution_count": 11,
   "metadata": {
    "colab": {
     "base_uri": "https://localhost:8080/",
     "height": 637
    },
    "id": "6MgkAK9mobqN",
    "outputId": "ba1b1e55-fa86-465e-e812-1eaf033d34a5"
   },
   "outputs": [
    {
     "data": {
      "application/vnd.plotly.v1+json": {
       "config": {
        "plotlyServerURL": "https://plot.ly"
       },
       "data": [
        {
         "coloraxis": "coloraxis",
         "hovertemplate": "lat=%{lat}<br>long=%{lon}<extra></extra>",
         "lat": [
          -20.42,
          -20.62,
          -26,
          -17.97,
          -20.42,
          -19.68,
          -11.7,
          -28.11,
          -28.74,
          -17.47,
          -21.44,
          -12.26,
          -18.54,
          -21,
          -20.7,
          -15.94,
          -13.64,
          -17.83,
          -23.5,
          -22.63,
          -20.84,
          -10.98,
          -23.3,
          -30.2,
          -19.66,
          -17.94,
          -14.72,
          -16.46,
          -20.97,
          -19.84,
          -22.58,
          -16.32,
          -15.55,
          -23.55,
          -16.3,
          -25.82,
          -18.73,
          -17.64,
          -17.66,
          -18.82,
          -37.37,
          -15.31,
          -24.97,
          -15.49,
          -19.23,
          -30.1,
          -26.4,
          -11.77,
          -24.12,
          -18.97,
          -18.75,
          -19.26,
          -22.75,
          -21.37,
          -20.1,
          -19.85,
          -22.7,
          -22.06,
          -17.8,
          -24.2,
          -20.69,
          -21.16,
          -13.82,
          -11.49,
          -20.68,
          -17.1,
          -20.14,
          -21.96,
          -20.42,
          -15.46,
          -15.31,
          -19.86,
          -11.55,
          -23.74,
          -17.7,
          -23.54,
          -19.21,
          -12.11,
          -21.81,
          -28.98,
          -34.02,
          -23.84,
          -19.57,
          -20.12,
          -17.7,
          -19.66,
          -21.5,
          -23.64,
          -15.43,
          -15.41,
          -15.48,
          -13.36,
          -20.64,
          -19.72,
          -15.44,
          -19.73,
          -27.24,
          -18.16,
          -13.66,
          -24.57,
          -16.98,
          -26.2,
          -21.88,
          -33,
          -21.33,
          -19.44,
          -34.89,
          -20.24,
          -22.55,
          -36.95,
          -15.75,
          -16.85,
          -19.06,
          -26.11,
          -26.2,
          -26.13,
          -13.66,
          -13.47,
          -14.6,
          -18.96,
          -14.65,
          -19.9,
          -22.05,
          -19.22,
          -31.24,
          -17.93,
          -19.3,
          -26.53,
          -27.72,
          -19.19,
          -17.43,
          -17.05,
          -19.52,
          -23.71,
          -21.3,
          -16.24,
          -16.14,
          -23.95,
          -25.2,
          -18.84,
          -12.66,
          -20.65,
          -13.23,
          -29.91,
          -14.31,
          -20.1,
          -17.8,
          -21.27,
          -23.58,
          -17.9,
          -23.34,
          -15.56,
          -23.83,
          -11.8,
          -15.54,
          -20.65,
          -11.75,
          -24.81,
          -20.9,
          -11.34,
          -17.98,
          -24.34,
          -13.86,
          -35.56,
          -35.48,
          -34.2,
          -26,
          -19.89,
          -23.43,
          -18.89,
          -17.82,
          -25.68,
          -20.2,
          -15.2,
          -15.03,
          -32.22,
          -22.64,
          -17.42,
          -17.84,
          -15.02,
          -18.04,
          -24.6,
          -19.88,
          -20.3,
          -20.45,
          -17.67,
          -22.3,
          -19.85,
          -24.27,
          -15.85,
          -20.02,
          -18.56,
          -17.87,
          -24.08,
          -32.2,
          -20.36,
          -23.85,
          -24,
          -20.41,
          -17.72,
          -19.67,
          -17.7,
          -16.23,
          -26.72,
          -12.95,
          -21.97,
          -21.96,
          -20.32,
          -30.28,
          -20.2,
          -30.66,
          -16.17,
          -28.25,
          -20.47,
          -23.55,
          -20.94,
          -26.67,
          -18.13,
          -20.21,
          -18.31,
          -16.52,
          -22.36,
          -22.43,
          -20.37,
          -23.77,
          -13.65,
          -21.55,
          -16.24,
          -23.73,
          -22.34,
          -19.4,
          -24.64,
          -16,
          -19.62,
          -23.84,
          -23.54,
          -28.23,
          -21.68,
          -13.44,
          -24.96,
          -20.08,
          -24.36,
          -14.7,
          -18.2,
          -16.65,
          -18.11,
          -17.95,
          -15.5,
          -23.36,
          -19.15,
          -10.97,
          -14.85,
          -17.8,
          -22.5,
          -29.1,
          -20.32,
          -16.09,
          -19.18,
          -23.81,
          -23.79,
          -19.02,
          -20.9,
          -19.06,
          -17.88,
          -19.41,
          -26.17,
          -14.95,
          -18.73,
          -20.21,
          -21.29,
          -19.76,
          -22.09,
          -23.8,
          -20.16,
          -22.13,
          -17.44,
          -23.33,
          -24.78,
          -22,
          -19.13,
          -30.72,
          -22.32,
          -16.45,
          -17.7,
          -17.95,
          -24.4,
          -19.3,
          -21.13,
          -18.07,
          -20.6,
          -18.48,
          -13.34,
          -20.92,
          -25.31,
          -15.24,
          -16.4,
          -24.57,
          -17.94,
          -30.64,
          -18.64,
          -13.09,
          -19.68,
          -16.44,
          -21.09,
          -14.99,
          -23.3,
          -17.68,
          -22,
          -21.38,
          -32.62,
          -13.05,
          -12.93,
          -18.6,
          -21.34,
          -21.48,
          -17.4,
          -17.32,
          -18.77,
          -26.16,
          -12.59,
          -14.82,
          -21.79,
          -19.83,
          -29.5,
          -12.49,
          -26.1,
          -21.04,
          -10.78,
          -20.76,
          -11.41,
          -19.1,
          -23.91,
          -27.33,
          -12.25,
          -23.49,
          -27.18,
          -25.8,
          -27.19,
          -27.27,
          -27.1,
          -27.22,
          -27.38,
          -27.27,
          -27.54,
          -27.2,
          -27.71,
          -27.6,
          -27.38,
          -21.54,
          -27.21,
          -28.96,
          -12.01,
          -17.46,
          -30.17,
          -27.27,
          -17.79,
          -22.19,
          -17.1,
          -27.18,
          -11.64,
          -17.98,
          -16.9,
          -21.98,
          -32.14,
          -18.8,
          -26.78,
          -20.43,
          -18.3,
          -15.83,
          -23.44,
          -23.73,
          -19.89,
          -17.59,
          -19.77,
          -20.31,
          -15.33,
          -18.2,
          -15.36,
          -15.29,
          -15.36,
          -16.24,
          -13.47,
          -25.5,
          -14.32,
          -20.04,
          -28.83,
          -17.82,
          -27.23,
          -10.72,
          -27,
          -20.36,
          -27.17,
          -20.94,
          -17.46,
          -21.04,
          -23.7,
          -17.72,
          -15.87,
          -17.84,
          -13.45,
          -30.8,
          -11.63,
          -30.4,
          -26.18,
          -15.7,
          -17.95,
          -20.51,
          -15.36,
          -23.61,
          -33.2,
          -17.68,
          -22.24,
          -20.07,
          -25.04,
          -21.5,
          -14.28,
          -14.43,
          -32.7,
          -34.1,
          -19.7,
          -24.19,
          -26.6,
          -17.04,
          -22.1,
          -32.6,
          -33,
          -20.58,
          -20.61,
          -19.47,
          -17.47,
          -18.4,
          -23.33,
          -18.55,
          -26.16,
          -21.8,
          -27.63,
          -18.89,
          -20.3,
          -20.56,
          -16.1,
          -12.66,
          -21.05,
          -17.97,
          -19.83,
          -22.55,
          -22.28,
          -15.72,
          -20.85,
          -21.11,
          -25.31,
          -26.46,
          -24.09,
          -16.96,
          -23.19,
          -20.81,
          -15.03,
          -18.06,
          -19,
          -23.53,
          -18.18,
          -15.66,
          -18,
          -18.08,
          -18.05,
          -29.9,
          -20.9,
          -15.61,
          -16.03,
          -17.68,
          -31.94,
          -19.14,
          -18,
          -16.95,
          -10.79,
          -20.83,
          -32.9,
          -37.93,
          -29.09,
          -23.56,
          -19.6,
          -21.39,
          -14.85,
          -22.7,
          -32.42,
          -17.9,
          -23.58,
          -34.4,
          -17.61,
          -21.07,
          -13.84,
          -30.24,
          -18.49,
          -23.45,
          -16.04,
          -17.14,
          -22.54,
          -15.9,
          -30.04,
          -24.03,
          -18.89,
          -16.51,
          -20.1,
          -21.06,
          -13.07,
          -23.46,
          -19.41,
          -11.81,
          -11.76,
          -12.08,
          -25.59,
          -26.54,
          -20.9,
          -16.99,
          -23.46,
          -17.81,
          -15.17,
          -11.67,
          -20.75,
          -19.5,
          -26.18,
          -20.66,
          -19.22,
          -24.68,
          -15.43,
          -32.45,
          -21.31,
          -15.44,
          -13.26,
          -15.26,
          -33.57,
          -15.77,
          -15.79,
          -21,
          -16.28,
          -23.28,
          -16.1,
          -17.7,
          -15.96,
          -15.95,
          -17.56,
          -15.9,
          -15.29,
          -15.86,
          -16.2,
          -15.71,
          -16.45,
          -11.54,
          -19.61,
          -15.61,
          -21.16,
          -20.65,
          -20.33,
          -15.08,
          -23.28,
          -23.44,
          -23.12,
          -23.65,
          -22.91,
          -22.06,
          -13.56,
          -17.99,
          -23.92,
          -30.69,
          -21.92,
          -25.04,
          -19.92,
          -27.75,
          -17.71,
          -19.6,
          -34.68,
          -14.46,
          -18.85,
          -17.02,
          -20.41,
          -18.18,
          -16.49,
          -17.74,
          -20.49,
          -18.51,
          -27.28,
          -15.9,
          -20.57,
          -11.25,
          -20.04,
          -20.89,
          -16.62,
          -20.09,
          -24.96,
          -20.95,
          -23.31,
          -20.95,
          -21.58,
          -13.62,
          -12.72,
          -21.79,
          -20.48,
          -12.84,
          -17.02,
          -23.89,
          -23.07,
          -27.98,
          -28.1,
          -21.24,
          -21.24,
          -19.89,
          -32.82,
          -22,
          -21.57,
          -24.5,
          -33.03,
          -30.09,
          -22.75,
          -17.99,
          -19.6,
          -15.65,
          -17.78,
          -22.04,
          -20.06,
          -18.07,
          -12.85,
          -33.29,
          -34.63,
          -24.18,
          -23.78,
          -22.37,
          -23.97,
          -34.12,
          -25.25,
          -22.87,
          -18.48,
          -21.46,
          -28.56,
          -28.56,
          -21.3,
          -20.08,
          -18.82,
          -19.51,
          -12.05,
          -17.4,
          -23.93,
          -21.23,
          -16.23,
          -28.15,
          -20.81,
          -20.72,
          -23.29,
          -38.46,
          -15.48,
          -37.03,
          -20.48,
          -18.12,
          -18.17,
          -11.4,
          -23.1,
          -14.28,
          -22.87,
          -17.59,
          -27.6,
          -17.94,
          -17.88,
          -30.01,
          -19.19,
          -18.14,
          -23.46,
          -18.44,
          -18.21,
          -18.26,
          -15.85,
          -23.82,
          -18.6,
          -17.8,
          -10.78,
          -18.12,
          -19.34,
          -15.34,
          -24.97,
          -15.97,
          -23.47,
          -23.11,
          -20.54,
          -18.92,
          -20.16,
          -25.48,
          -18.19,
          -15.35,
          -18.69,
          -18.89,
          -17.61,
          -20.93,
          -17.6,
          -17.96,
          -18.8,
          -20.61,
          -20.74,
          -25.23,
          -23.9,
          -18.07,
          -15.43,
          -14.3,
          -18.04,
          -13.9,
          -17.64,
          -17.98,
          -25,
          -19.45,
          -16.11,
          -23.73,
          -17.74,
          -21.56,
          -20.97,
          -15.45,
          -15.93,
          -21.47,
          -21.44,
          -22.16,
          -13.36,
          -21.22,
          -26.1,
          -18.35,
          -17.2,
          -22.42,
          -17.91,
          -26.53,
          -26.5,
          -16.31,
          -18.76,
          -17.1,
          -19.28,
          -23.5,
          -21.26,
          -17.97,
          -26.02,
          -30.3,
          -24.89,
          -14.57,
          -15.4,
          -22.06,
          -25.14,
          -20.3,
          -25.28,
          -20.63,
          -19.02,
          -22.1,
          -38.59,
          -19.3,
          -31.03,
          -30.51,
          -22.55,
          -22.14,
          -25.6,
          -18.04,
          -21.29,
          -21.08,
          -20.64,
          -24.41,
          -12.16,
          -17.1,
          -21.13,
          -12.34,
          -16.43,
          -20.7,
          -21.18,
          -17.78,
          -21.57,
          -13.7,
          -12.27,
          -19.1,
          -19.85,
          -11.37,
          -20.7,
          -20.24,
          -16.4,
          -19.6,
          -21.63,
          -21.6,
          -21.77,
          -21.8,
          -21.05,
          -10.8,
          -17.9,
          -22.26,
          -22.33,
          -24.04,
          -20.4,
          -15,
          -27.87,
          -14.12,
          -23.61,
          -21.56,
          -21.19,
          -18.07,
          -26,
          -20.21,
          -28,
          -20.74,
          -31.8,
          -18.91,
          -20.45,
          -22.9,
          -18.11,
          -23.8,
          -23.42,
          -23.2,
          -12.93,
          -21.14,
          -19.13,
          -21.08,
          -20.07,
          -20.9,
          -25.04,
          -21.85,
          -19.34,
          -15.83,
          -23.73,
          -18.1,
          -22.12,
          -15.39,
          -16.21,
          -21.75,
          -22.1,
          -24.97,
          -19.36,
          -22.14,
          -21.48,
          -18.54,
          -21.62,
          -13.4,
          -15.5,
          -15.67,
          -21.78,
          -30.63,
          -15.7,
          -19.2,
          -19.7,
          -19.4,
          -15.85,
          -17.38,
          -24.33,
          -20.89,
          -18.97,
          -17.99,
          -15.8,
          -25.42,
          -21.6,
          -26.06,
          -17.56,
          -25.63,
          -25.46,
          -22.23,
          -21.55,
          -15.18,
          -13.79,
          -15.18,
          -18.78,
          -17.9,
          -18.5,
          -14.82,
          -15.65,
          -30.01,
          -13.16,
          -21.03,
          -21.4,
          -17.93,
          -20.87,
          -12.01,
          -19.1,
          -22.85,
          -17.08,
          -21.14,
          -12.23,
          -20.91,
          -11.38,
          -11.02,
          -22.09,
          -17.8,
          -18.94,
          -18.85,
          -21.91,
          -22.03,
          -18.1,
          -18.4,
          -21.2,
          -12,
          -11.7,
          -26.72,
          -24.39,
          -19.64,
          -21.35,
          -22.82,
          -38.28,
          -12.57,
          -22.24,
          -13.8,
          -21.07,
          -17.74,
          -23.87,
          -21.29,
          -22.2,
          -15.24,
          -17.82,
          -32.14,
          -19.3,
          -33.09,
          -20.18,
          -17.46,
          -17.44,
          -24.71,
          -21.53,
          -19.17,
          -28.05,
          -23.39,
          -22.33,
          -15.28,
          -20.27,
          -10.96,
          -21.52,
          -19.57,
          -23.08,
          -25.06,
          -17.85,
          -15.99,
          -20.56,
          -17.98,
          -18.4,
          -27.64,
          -20.99,
          -14.86,
          -29.33,
          -25.81,
          -14.1,
          -17.63,
          -23.47,
          -23.92,
          -20.88,
          -20.25,
          -19.33,
          -18.14,
          -22.41,
          -20.77,
          -17.95,
          -20.83,
          -27.84,
          -19.94,
          -23.6,
          -23.7,
          -30.39,
          -18.98,
          -27.89,
          -23.5,
          -23.73,
          -17.93,
          -35.94,
          -18.68,
          -23.47,
          -23.49,
          -23.85,
          -27.08,
          -20.88,
          -20.97,
          -21.71,
          -23.9,
          -15.78,
          -12.57,
          -19.69,
          -22.04,
          -17.99,
          -23.5,
          -21.4,
          -15.86,
          -23.95,
          -25.79,
          -23.75,
          -24.1,
          -18.56,
          -23.3,
          -17.03,
          -20.77,
          -28.1,
          -18.83,
          -23,
          -20.82,
          -22.95,
          -28.22,
          -27.99,
          -15.54,
          -12.37,
          -22.33,
          -22.7,
          -17.86,
          -16,
          -20.73,
          -15.45,
          -20.05,
          -17.95,
          -17.7,
          -25.93,
          -12.28,
          -20.13,
          -17.4,
          -21.59
         ],
         "lon": [
          181.62,
          181.03,
          184.1,
          181.66,
          181.96,
          184.31,
          166.1,
          181.93,
          181.74,
          179.59,
          180.69,
          167,
          182.11,
          181.66,
          169.92,
          184.95,
          165.96,
          181.5,
          179.78,
          180.31,
          181.16,
          166.32,
          180.16,
          182,
          180.28,
          181.49,
          167.51,
          180.79,
          181.47,
          182.37,
          179.24,
          166.74,
          185.05,
          180.8,
          186,
          179.33,
          169.23,
          181.28,
          181.4,
          169.33,
          176.78,
          186.1,
          179.82,
          186.04,
          169.41,
          182.3,
          181.7,
          166.32,
          180.08,
          185.25,
          182.35,
          184.42,
          173.2,
          180.67,
          182.16,
          182.13,
          181,
          180.6,
          181.35,
          179.2,
          181.55,
          182.4,
          172.38,
          166.22,
          181.41,
          184.93,
          181.6,
          179.62,
          181.86,
          187.81,
          185.8,
          184.35,
          166.2,
          179.99,
          181.23,
          180.04,
          184.7,
          167.06,
          181.71,
          181.11,
          180.21,
          180.99,
          182.38,
          183.4,
          181.7,
          184.31,
          170.5,
          179.96,
          186.3,
          186.44,
          167.53,
          167.06,
          182.02,
          169.71,
          185.26,
          182.4,
          181.11,
          183.41,
          166.54,
          179.92,
          185.61,
          178.41,
          180.39,
          181.6,
          180.69,
          183.5,
          180.6,
          169.49,
          185.9,
          177.81,
          185.23,
          182.31,
          182.45,
          178.3,
          178.35,
          178.31,
          172.23,
          172.29,
          167.4,
          169.48,
          166.97,
          178.9,
          180.4,
          182.43,
          180.6,
          167.89,
          183.84,
          178.57,
          181.7,
          183.51,
          185.43,
          181.22,
          168.98,
          180.3,
          180.82,
          168.02,
          187.32,
          182.8,
          182.6,
          184.16,
          169.46,
          181.4,
          167.1,
          181.43,
          173.5,
          184.4,
          185.17,
          173.49,
          180.17,
          181.5,
          184.5,
          167.62,
          182.56,
          165.8,
          167.68,
          181.32,
          166.07,
          180,
          169.84,
          166.24,
          180.5,
          179.52,
          167.16,
          180.2,
          179.9,
          179.43,
          182.12,
          183.84,
          180,
          169.42,
          181.83,
          180.34,
          180.9,
          184.68,
          182.29,
          180.2,
          180.64,
          185.16,
          181.48,
          184.24,
          181.75,
          183.5,
          184.3,
          183,
          181.85,
          187.09,
          181.9,
          181.85,
          179.88,
          185.13,
          184.09,
          169.31,
          182,
          179.5,
          179.61,
          181.19,
          182.53,
          182.75,
          181.74,
          180.3,
          182.18,
          182.2,
          183.59,
          183.35,
          169.09,
          182.32,
          180.54,
          181.69,
          180.62,
          182.3,
          180.13,
          184.1,
          181.71,
          185.68,
          180.27,
          181.58,
          182.4,
          181.52,
          183.83,
          182.39,
          185.7,
          171.65,
          184.48,
          182.1,
          180.16,
          166.66,
          182.9,
          185.75,
          182.53,
          171.52,
          180.94,
          180.81,
          182.82,
          185.35,
          180.13,
          179.93,
          182.68,
          180.63,
          166.53,
          180.22,
          182.74,
          182.84,
          166,
          183.68,
          185.51,
          181.67,
          181.65,
          186.9,
          180.01,
          169.5,
          166.26,
          167.24,
          181.38,
          170.4,
          182.1,
          180.88,
          184.89,
          169.33,
          179.36,
          179.89,
          184.23,
          181.51,
          169.01,
          181.47,
          183.05,
          184.2,
          167.24,
          168.8,
          182.37,
          180.85,
          181.41,
          180.38,
          179.9,
          181.99,
          180.38,
          181.4,
          180.18,
          179.22,
          180.52,
          182.51,
          180.1,
          180.54,
          177.77,
          185,
          184.68,
          179.85,
          180.6,
          185.32,
          181.57,
          182.28,
          181.49,
          166.2,
          181.5,
          179.69,
          186.21,
          185.86,
          178.4,
          181.51,
          181.2,
          169.32,
          169.28,
          184.14,
          185.74,
          181.38,
          171.39,
          179.7,
          181.36,
          180.53,
          181.39,
          181.5,
          169.58,
          169.63,
          181.91,
          181.41,
          183.78,
          181.02,
          181.03,
          169.24,
          179.5,
          167.1,
          167.32,
          183.48,
          182.04,
          182.31,
          166.36,
          182.3,
          181.2,
          165.77,
          185.77,
          166.24,
          183.87,
          180,
          182.6,
          166.6,
          179.07,
          182.18,
          182.1,
          182.18,
          182.38,
          182.18,
          182.28,
          181.7,
          182.5,
          182.5,
          182.39,
          182.47,
          182.4,
          182.39,
          185.48,
          182.43,
          182.61,
          166.29,
          181.32,
          182.02,
          182.36,
          181.32,
          171.4,
          182.68,
          182.53,
          166.47,
          181.58,
          185.72,
          179.6,
          179.9,
          169.21,
          183.61,
          182.37,
          183.2,
          182.51,
          182.93,
          179.99,
          184.08,
          181.09,
          181.4,
          184.06,
          186.75,
          181.6,
          186.66,
          186.42,
          186.71,
          167.95,
          167.14,
          182.82,
          167.33,
          182.01,
          181.66,
          181.49,
          180.98,
          165.99,
          183.88,
          186.16,
          183.68,
          181.26,
          181.9,
          181.2,
          179.6,
          181.42,
          188.13,
          181.3,
          170.3,
          182.16,
          166.14,
          181.4,
          178.59,
          184.5,
          181.5,
          182.3,
          167.51,
          180.23,
          181.6,
          186.8,
          184.56,
          169.14,
          180.1,
          185.2,
          167.26,
          167.26,
          181.7,
          181.8,
          186.2,
          180.38,
          182.77,
          186.8,
          179.71,
          180.9,
          182.4,
          181.24,
          182.6,
          169.15,
          180.96,
          183.4,
          180.26,
          182.23,
          178.47,
          183.2,
          182.93,
          169.48,
          182.3,
          182.04,
          185.32,
          166.37,
          184.68,
          168.52,
          182.54,
          183.81,
          183.52,
          185.64,
          181.59,
          181.5,
          180.15,
          182.5,
          179.68,
          167.7,
          182.8,
          184.7,
          167.32,
          181.59,
          185.6,
          179.99,
          180.63,
          186.8,
          180.62,
          180.7,
          180.86,
          181.16,
          181.9,
          167.5,
          185.43,
          181.11,
          180.57,
          184.36,
          185.48,
          185.94,
          166.06,
          185.9,
          181.6,
          177.47,
          183.2,
          180.23,
          185.2,
          180.68,
          184.87,
          183.3,
          181.21,
          181.3,
          183.4,
          180.5,
          181.2,
          181.13,
          170.62,
          181.63,
          169.04,
          180.23,
          183.54,
          185.31,
          172.91,
          185.3,
          181.2,
          180.22,
          184.46,
          187.1,
          186.3,
          183.81,
          166.87,
          180.09,
          182.3,
          165.98,
          165.96,
          165.76,
          180.02,
          183.63,
          184.28,
          187,
          180.17,
          181.82,
          187.2,
          166.02,
          184.52,
          186.9,
          179.79,
          185.77,
          182.54,
          183.33,
          167.38,
          181.15,
          180.84,
          167.18,
          167.01,
          183.13,
          180.8,
          167.01,
          166.83,
          183.2,
          166.94,
          184.6,
          167.25,
          181.31,
          166.69,
          167.34,
          181.59,
          167.42,
          166.9,
          166.85,
          166.8,
          166.91,
          167.54,
          166.18,
          181.91,
          187.15,
          181.41,
          182.22,
          168.71,
          166.62,
          184.61,
          184.6,
          184.42,
          184.46,
          183.95,
          180.47,
          166.49,
          181.57,
          184.47,
          182.1,
          182.8,
          180.97,
          183.91,
          182.26,
          181.18,
          183.84,
          179.82,
          167.26,
          187.55,
          182.41,
          186.51,
          182.04,
          187.8,
          181.31,
          181.69,
          182.64,
          183.4,
          167.16,
          181.33,
          166.36,
          181.87,
          181.25,
          186.74,
          168.75,
          179.87,
          181.42,
          179.27,
          181.06,
          181.9,
          167.15,
          166.28,
          185,
          169.76,
          166.78,
          182.93,
          182.39,
          184.03,
          181.96,
          182.25,
          180.81,
          180.86,
          174.46,
          179.8,
          185.5,
          185.62,
          180.92,
          180.2,
          182.4,
          170.99,
          168.98,
          181.87,
          186.26,
          181.53,
          184.91,
          168.69,
          181.54,
          165.67,
          181.3,
          179.1,
          179.02,
          180.31,
          171.5,
          179.91,
          181.75,
          179.86,
          172.65,
          182.37,
          181.02,
          183.47,
          183.59,
          180.92,
          183.22,
          182.21,
          183.97,
          167.39,
          186.54,
          180.18,
          181.09,
          167.91,
          183.4,
          185.01,
          181.41,
          184,
          176.03,
          186.73,
          177.52,
          181.38,
          181.88,
          181.98,
          166.07,
          180.12,
          170.34,
          171.72,
          180.98,
          182.1,
          180.6,
          180.58,
          180.8,
          182.3,
          180.87,
          180.11,
          181.04,
          180.87,
          180.98,
          184.83,
          180.09,
          184.28,
          181.32,
          166.1,
          181.71,
          182.62,
          167.1,
          182.85,
          186.08,
          180.24,
          179.15,
          181.66,
          169.37,
          184.27,
          180.94,
          181.74,
          186.4,
          169.1,
          181.24,
          183.32,
          181.54,
          181.5,
          181.4,
          182.41,
          182.44,
          181.53,
          179.86,
          179.9,
          181.58,
          185.19,
          167.32,
          181.57,
          167.18,
          177.01,
          181.51,
          180,
          184.48,
          187.48,
          179.98,
          186.78,
          183.23,
          181.72,
          186.73,
          167.91,
          185.86,
          170.45,
          180.49,
          172.76,
          181.51,
          182.5,
          185.27,
          182.9,
          171.4,
          181.48,
          178.3,
          178.29,
          168.08,
          169.71,
          182.8,
          182.78,
          180,
          181.69,
          181.48,
          181.2,
          180.8,
          179.67,
          167.24,
          186.87,
          183.95,
          178.42,
          181.4,
          181.17,
          181.61,
          186.83,
          185.3,
          175.7,
          183,
          181.59,
          181.3,
          183.34,
          180.64,
          180.3,
          181.84,
          185.77,
          180.85,
          169.66,
          180.03,
          167.03,
          185.9,
          185.6,
          167.43,
          186.73,
          184.3,
          180.92,
          185.33,
          183.86,
          166.75,
          167.41,
          184.52,
          184.51,
          166.55,
          186.3,
          185.1,
          182.73,
          184.53,
          180.77,
          180.5,
          181,
          183.6,
          180.9,
          165.8,
          181.5,
          171.44,
          171.46,
          184.85,
          186.1,
          184.62,
          183.4,
          166.64,
          180.27,
          185.5,
          181.58,
          181.65,
          178.43,
          181.9,
          182,
          180.7,
          180.6,
          169.46,
          182.1,
          183.8,
          181.63,
          184.7,
          180.21,
          184.8,
          169.52,
          181.06,
          184.97,
          181.3,
          181.75,
          182.02,
          179.84,
          180.89,
          186.59,
          167.1,
          183,
          181.72,
          180.49,
          185.1,
          186.52,
          180.67,
          180.4,
          179.54,
          186.36,
          179.62,
          182.44,
          168.93,
          182.4,
          166.9,
          185.3,
          185.23,
          183.11,
          180.9,
          185.1,
          184.37,
          182.44,
          182.29,
          185.9,
          168.63,
          179.97,
          185.26,
          169.44,
          181.62,
          185.25,
          182.65,
          169.9,
          180.05,
          181.23,
          180.26,
          179.98,
          180.48,
          181.39,
          185.93,
          166.56,
          167.23,
          186.72,
          181.41,
          185.4,
          171.17,
          185.17,
          181.15,
          167.24,
          180.78,
          180.78,
          181.89,
          181.7,
          166.66,
          169.63,
          181.37,
          185.96,
          174.21,
          167.02,
          181.57,
          167.05,
          167.01,
          180.58,
          181.2,
          182.43,
          182.2,
          181.28,
          179.77,
          181.63,
          184.84,
          181.4,
          166.2,
          166.3,
          182.69,
          178.98,
          169.5,
          170.04,
          184.52,
          177.1,
          167.11,
          180.28,
          166.53,
          183.78,
          181.25,
          180.15,
          185.8,
          180.58,
          185.11,
          181.27,
          180,
          185.86,
          180.94,
          181.62,
          181.42,
          181.33,
          179.85,
          170.52,
          169.53,
          182.39,
          179.97,
          171.51,
          185.98,
          181.51,
          165.97,
          169.75,
          184.47,
          183.45,
          182.8,
          181.44,
          167.95,
          184.41,
          181.61,
          181.77,
          182.22,
          181.02,
          167.32,
          182.72,
          182.54,
          166.01,
          185.13,
          180.21,
          180.21,
          185.18,
          184.75,
          186.16,
          181.71,
          183.99,
          181.16,
          181.73,
          181.01,
          182.1,
          182.39,
          183.99,
          184.13,
          182.4,
          182.32,
          182.92,
          184.9,
          184.49,
          181.62,
          178.52,
          184.5,
          179.95,
          180.06,
          180.26,
          183.44,
          184.95,
          181.2,
          183.58,
          184.6,
          167.44,
          166.72,
          184.23,
          183.95,
          181.59,
          180.13,
          180.74,
          166.98,
          184.64,
          182.38,
          184.5,
          184.5,
          169.05,
          184.68,
          185.74,
          183.71,
          183.5,
          182.26,
          170.7,
          181.67,
          170.56,
          183.6,
          183.5,
          187.15,
          166.93,
          171.66,
          170.3,
          181.3,
          184.53,
          181.42,
          181.42,
          183.86,
          181.37,
          188.1,
          179.54,
          167.06,
          184.2,
          187.8,
          170.56
         ],
         "name": "",
         "radius": 9,
         "subplot": "mapbox",
         "type": "densitymapbox"
        }
       ],
       "layout": {
        "coloraxis": {
         "colorscale": [
          [
           0,
           "#0d0887"
          ],
          [
           0.1111111111111111,
           "#46039f"
          ],
          [
           0.2222222222222222,
           "#7201a8"
          ],
          [
           0.3333333333333333,
           "#9c179e"
          ],
          [
           0.4444444444444444,
           "#bd3786"
          ],
          [
           0.5555555555555556,
           "#d8576b"
          ],
          [
           0.6666666666666666,
           "#ed7953"
          ],
          [
           0.7777777777777778,
           "#fb9f3a"
          ],
          [
           0.8888888888888888,
           "#fdca26"
          ],
          [
           1,
           "#f0f921"
          ]
         ]
        },
        "height": 600,
        "legend": {
         "tracegroupgap": 0
        },
        "mapbox": {
         "center": {
          "lat": -25.78,
          "lon": 177.72
         },
         "domain": {
          "x": [
           0,
           1
          ],
          "y": [
           0,
           1
          ]
         },
         "layers": [
          {
           "below": "traces",
           "source": [
            "https://basemap.nationalmap.gov/arcgis/rest/services/USGSImageryOnly/MapServer/tile/{z}/{y}/{x}"
           ],
           "sourceattribution": "United States Geological Survey",
           "sourcetype": "raster"
          }
         ],
         "style": "white-bg",
         "zoom": 2
        },
        "margin": {
         "t": 60
        },
        "template": {
         "data": {
          "bar": [
           {
            "error_x": {
             "color": "#2a3f5f"
            },
            "error_y": {
             "color": "#2a3f5f"
            },
            "marker": {
             "line": {
              "color": "#E5ECF6",
              "width": 0.5
             },
             "pattern": {
              "fillmode": "overlay",
              "size": 10,
              "solidity": 0.2
             }
            },
            "type": "bar"
           }
          ],
          "barpolar": [
           {
            "marker": {
             "line": {
              "color": "#E5ECF6",
              "width": 0.5
             },
             "pattern": {
              "fillmode": "overlay",
              "size": 10,
              "solidity": 0.2
             }
            },
            "type": "barpolar"
           }
          ],
          "carpet": [
           {
            "aaxis": {
             "endlinecolor": "#2a3f5f",
             "gridcolor": "white",
             "linecolor": "white",
             "minorgridcolor": "white",
             "startlinecolor": "#2a3f5f"
            },
            "baxis": {
             "endlinecolor": "#2a3f5f",
             "gridcolor": "white",
             "linecolor": "white",
             "minorgridcolor": "white",
             "startlinecolor": "#2a3f5f"
            },
            "type": "carpet"
           }
          ],
          "choropleth": [
           {
            "colorbar": {
             "outlinewidth": 0,
             "ticks": ""
            },
            "type": "choropleth"
           }
          ],
          "contour": [
           {
            "colorbar": {
             "outlinewidth": 0,
             "ticks": ""
            },
            "colorscale": [
             [
              0,
              "#0d0887"
             ],
             [
              0.1111111111111111,
              "#46039f"
             ],
             [
              0.2222222222222222,
              "#7201a8"
             ],
             [
              0.3333333333333333,
              "#9c179e"
             ],
             [
              0.4444444444444444,
              "#bd3786"
             ],
             [
              0.5555555555555556,
              "#d8576b"
             ],
             [
              0.6666666666666666,
              "#ed7953"
             ],
             [
              0.7777777777777778,
              "#fb9f3a"
             ],
             [
              0.8888888888888888,
              "#fdca26"
             ],
             [
              1,
              "#f0f921"
             ]
            ],
            "type": "contour"
           }
          ],
          "contourcarpet": [
           {
            "colorbar": {
             "outlinewidth": 0,
             "ticks": ""
            },
            "type": "contourcarpet"
           }
          ],
          "heatmap": [
           {
            "colorbar": {
             "outlinewidth": 0,
             "ticks": ""
            },
            "colorscale": [
             [
              0,
              "#0d0887"
             ],
             [
              0.1111111111111111,
              "#46039f"
             ],
             [
              0.2222222222222222,
              "#7201a8"
             ],
             [
              0.3333333333333333,
              "#9c179e"
             ],
             [
              0.4444444444444444,
              "#bd3786"
             ],
             [
              0.5555555555555556,
              "#d8576b"
             ],
             [
              0.6666666666666666,
              "#ed7953"
             ],
             [
              0.7777777777777778,
              "#fb9f3a"
             ],
             [
              0.8888888888888888,
              "#fdca26"
             ],
             [
              1,
              "#f0f921"
             ]
            ],
            "type": "heatmap"
           }
          ],
          "heatmapgl": [
           {
            "colorbar": {
             "outlinewidth": 0,
             "ticks": ""
            },
            "colorscale": [
             [
              0,
              "#0d0887"
             ],
             [
              0.1111111111111111,
              "#46039f"
             ],
             [
              0.2222222222222222,
              "#7201a8"
             ],
             [
              0.3333333333333333,
              "#9c179e"
             ],
             [
              0.4444444444444444,
              "#bd3786"
             ],
             [
              0.5555555555555556,
              "#d8576b"
             ],
             [
              0.6666666666666666,
              "#ed7953"
             ],
             [
              0.7777777777777778,
              "#fb9f3a"
             ],
             [
              0.8888888888888888,
              "#fdca26"
             ],
             [
              1,
              "#f0f921"
             ]
            ],
            "type": "heatmapgl"
           }
          ],
          "histogram": [
           {
            "marker": {
             "pattern": {
              "fillmode": "overlay",
              "size": 10,
              "solidity": 0.2
             }
            },
            "type": "histogram"
           }
          ],
          "histogram2d": [
           {
            "colorbar": {
             "outlinewidth": 0,
             "ticks": ""
            },
            "colorscale": [
             [
              0,
              "#0d0887"
             ],
             [
              0.1111111111111111,
              "#46039f"
             ],
             [
              0.2222222222222222,
              "#7201a8"
             ],
             [
              0.3333333333333333,
              "#9c179e"
             ],
             [
              0.4444444444444444,
              "#bd3786"
             ],
             [
              0.5555555555555556,
              "#d8576b"
             ],
             [
              0.6666666666666666,
              "#ed7953"
             ],
             [
              0.7777777777777778,
              "#fb9f3a"
             ],
             [
              0.8888888888888888,
              "#fdca26"
             ],
             [
              1,
              "#f0f921"
             ]
            ],
            "type": "histogram2d"
           }
          ],
          "histogram2dcontour": [
           {
            "colorbar": {
             "outlinewidth": 0,
             "ticks": ""
            },
            "colorscale": [
             [
              0,
              "#0d0887"
             ],
             [
              0.1111111111111111,
              "#46039f"
             ],
             [
              0.2222222222222222,
              "#7201a8"
             ],
             [
              0.3333333333333333,
              "#9c179e"
             ],
             [
              0.4444444444444444,
              "#bd3786"
             ],
             [
              0.5555555555555556,
              "#d8576b"
             ],
             [
              0.6666666666666666,
              "#ed7953"
             ],
             [
              0.7777777777777778,
              "#fb9f3a"
             ],
             [
              0.8888888888888888,
              "#fdca26"
             ],
             [
              1,
              "#f0f921"
             ]
            ],
            "type": "histogram2dcontour"
           }
          ],
          "mesh3d": [
           {
            "colorbar": {
             "outlinewidth": 0,
             "ticks": ""
            },
            "type": "mesh3d"
           }
          ],
          "parcoords": [
           {
            "line": {
             "colorbar": {
              "outlinewidth": 0,
              "ticks": ""
             }
            },
            "type": "parcoords"
           }
          ],
          "pie": [
           {
            "automargin": true,
            "type": "pie"
           }
          ],
          "scatter": [
           {
            "fillpattern": {
             "fillmode": "overlay",
             "size": 10,
             "solidity": 0.2
            },
            "type": "scatter"
           }
          ],
          "scatter3d": [
           {
            "line": {
             "colorbar": {
              "outlinewidth": 0,
              "ticks": ""
             }
            },
            "marker": {
             "colorbar": {
              "outlinewidth": 0,
              "ticks": ""
             }
            },
            "type": "scatter3d"
           }
          ],
          "scattercarpet": [
           {
            "marker": {
             "colorbar": {
              "outlinewidth": 0,
              "ticks": ""
             }
            },
            "type": "scattercarpet"
           }
          ],
          "scattergeo": [
           {
            "marker": {
             "colorbar": {
              "outlinewidth": 0,
              "ticks": ""
             }
            },
            "type": "scattergeo"
           }
          ],
          "scattergl": [
           {
            "marker": {
             "colorbar": {
              "outlinewidth": 0,
              "ticks": ""
             }
            },
            "type": "scattergl"
           }
          ],
          "scattermapbox": [
           {
            "marker": {
             "colorbar": {
              "outlinewidth": 0,
              "ticks": ""
             }
            },
            "type": "scattermapbox"
           }
          ],
          "scatterpolar": [
           {
            "marker": {
             "colorbar": {
              "outlinewidth": 0,
              "ticks": ""
             }
            },
            "type": "scatterpolar"
           }
          ],
          "scatterpolargl": [
           {
            "marker": {
             "colorbar": {
              "outlinewidth": 0,
              "ticks": ""
             }
            },
            "type": "scatterpolargl"
           }
          ],
          "scatterternary": [
           {
            "marker": {
             "colorbar": {
              "outlinewidth": 0,
              "ticks": ""
             }
            },
            "type": "scatterternary"
           }
          ],
          "surface": [
           {
            "colorbar": {
             "outlinewidth": 0,
             "ticks": ""
            },
            "colorscale": [
             [
              0,
              "#0d0887"
             ],
             [
              0.1111111111111111,
              "#46039f"
             ],
             [
              0.2222222222222222,
              "#7201a8"
             ],
             [
              0.3333333333333333,
              "#9c179e"
             ],
             [
              0.4444444444444444,
              "#bd3786"
             ],
             [
              0.5555555555555556,
              "#d8576b"
             ],
             [
              0.6666666666666666,
              "#ed7953"
             ],
             [
              0.7777777777777778,
              "#fb9f3a"
             ],
             [
              0.8888888888888888,
              "#fdca26"
             ],
             [
              1,
              "#f0f921"
             ]
            ],
            "type": "surface"
           }
          ],
          "table": [
           {
            "cells": {
             "fill": {
              "color": "#EBF0F8"
             },
             "line": {
              "color": "white"
             }
            },
            "header": {
             "fill": {
              "color": "#C8D4E3"
             },
             "line": {
              "color": "white"
             }
            },
            "type": "table"
           }
          ]
         },
         "layout": {
          "annotationdefaults": {
           "arrowcolor": "#2a3f5f",
           "arrowhead": 0,
           "arrowwidth": 1
          },
          "autotypenumbers": "strict",
          "coloraxis": {
           "colorbar": {
            "outlinewidth": 0,
            "ticks": ""
           }
          },
          "colorscale": {
           "diverging": [
            [
             0,
             "#8e0152"
            ],
            [
             0.1,
             "#c51b7d"
            ],
            [
             0.2,
             "#de77ae"
            ],
            [
             0.3,
             "#f1b6da"
            ],
            [
             0.4,
             "#fde0ef"
            ],
            [
             0.5,
             "#f7f7f7"
            ],
            [
             0.6,
             "#e6f5d0"
            ],
            [
             0.7,
             "#b8e186"
            ],
            [
             0.8,
             "#7fbc41"
            ],
            [
             0.9,
             "#4d9221"
            ],
            [
             1,
             "#276419"
            ]
           ],
           "sequential": [
            [
             0,
             "#0d0887"
            ],
            [
             0.1111111111111111,
             "#46039f"
            ],
            [
             0.2222222222222222,
             "#7201a8"
            ],
            [
             0.3333333333333333,
             "#9c179e"
            ],
            [
             0.4444444444444444,
             "#bd3786"
            ],
            [
             0.5555555555555556,
             "#d8576b"
            ],
            [
             0.6666666666666666,
             "#ed7953"
            ],
            [
             0.7777777777777778,
             "#fb9f3a"
            ],
            [
             0.8888888888888888,
             "#fdca26"
            ],
            [
             1,
             "#f0f921"
            ]
           ],
           "sequentialminus": [
            [
             0,
             "#0d0887"
            ],
            [
             0.1111111111111111,
             "#46039f"
            ],
            [
             0.2222222222222222,
             "#7201a8"
            ],
            [
             0.3333333333333333,
             "#9c179e"
            ],
            [
             0.4444444444444444,
             "#bd3786"
            ],
            [
             0.5555555555555556,
             "#d8576b"
            ],
            [
             0.6666666666666666,
             "#ed7953"
            ],
            [
             0.7777777777777778,
             "#fb9f3a"
            ],
            [
             0.8888888888888888,
             "#fdca26"
            ],
            [
             1,
             "#f0f921"
            ]
           ]
          },
          "colorway": [
           "#636efa",
           "#EF553B",
           "#00cc96",
           "#ab63fa",
           "#FFA15A",
           "#19d3f3",
           "#FF6692",
           "#B6E880",
           "#FF97FF",
           "#FECB52"
          ],
          "font": {
           "color": "#2a3f5f"
          },
          "geo": {
           "bgcolor": "white",
           "lakecolor": "white",
           "landcolor": "#E5ECF6",
           "showlakes": true,
           "showland": true,
           "subunitcolor": "white"
          },
          "hoverlabel": {
           "align": "left"
          },
          "hovermode": "closest",
          "mapbox": {
           "style": "light"
          },
          "paper_bgcolor": "white",
          "plot_bgcolor": "#E5ECF6",
          "polar": {
           "angularaxis": {
            "gridcolor": "white",
            "linecolor": "white",
            "ticks": ""
           },
           "bgcolor": "#E5ECF6",
           "radialaxis": {
            "gridcolor": "white",
            "linecolor": "white",
            "ticks": ""
           }
          },
          "scene": {
           "xaxis": {
            "backgroundcolor": "#E5ECF6",
            "gridcolor": "white",
            "gridwidth": 2,
            "linecolor": "white",
            "showbackground": true,
            "ticks": "",
            "zerolinecolor": "white"
           },
           "yaxis": {
            "backgroundcolor": "#E5ECF6",
            "gridcolor": "white",
            "gridwidth": 2,
            "linecolor": "white",
            "showbackground": true,
            "ticks": "",
            "zerolinecolor": "white"
           },
           "zaxis": {
            "backgroundcolor": "#E5ECF6",
            "gridcolor": "white",
            "gridwidth": 2,
            "linecolor": "white",
            "showbackground": true,
            "ticks": "",
            "zerolinecolor": "white"
           }
          },
          "shapedefaults": {
           "line": {
            "color": "#2a3f5f"
           }
          },
          "ternary": {
           "aaxis": {
            "gridcolor": "white",
            "linecolor": "white",
            "ticks": ""
           },
           "baxis": {
            "gridcolor": "white",
            "linecolor": "white",
            "ticks": ""
           },
           "bgcolor": "#E5ECF6",
           "caxis": {
            "gridcolor": "white",
            "linecolor": "white",
            "ticks": ""
           }
          },
          "title": {
           "x": 0.05
          },
          "xaxis": {
           "automargin": true,
           "gridcolor": "white",
           "linecolor": "white",
           "ticks": "",
           "title": {
            "standoff": 15
           },
           "zerolinecolor": "white",
           "zerolinewidth": 2
          },
          "yaxis": {
           "automargin": true,
           "gridcolor": "white",
           "linecolor": "white",
           "ticks": "",
           "title": {
            "standoff": 15
           },
           "zerolinecolor": "white",
           "zerolinewidth": 2
          }
         }
        },
        "title": {
         "font": {
          "family": "Arial, sans-serif",
          "size": 25
         },
         "text": "repartution sur la carte",
         "x": 0.5
        },
        "width": 800
       }
      }
     },
     "metadata": {},
     "output_type": "display_data"
    }
   ],
   "source": [
    "fig = px.density_mapbox(data, lat='lat', lon='long', radius=9,\n",
    "                        center=dict(lat=-25.78, lon=177.72), zoom=2,\n",
    "                        #mapbox_style=\"white-bg\"\n",
    "                        ) #stamen-terrain\n",
    "\n",
    "fig.update_layout(\n",
    "    mapbox_style=\"white-bg\",\n",
    "    mapbox_layers=[\n",
    "        {\n",
    "            \"below\": 'traces',\n",
    "            \"sourcetype\": \"raster\",\n",
    "            \"sourceattribution\": \"United States Geological Survey\",\n",
    "            \"source\": [\n",
    "                \"https://basemap.nationalmap.gov/arcgis/rest/services/USGSImageryOnly/MapServer/tile/{z}/{y}/{x}\"\n",
    "            ]\n",
    "        }\n",
    "      ])\n",
    "\n",
    "fig.update_layout(width=800, height=600)\n",
    "\n",
    "fig.update_layout(title='repartution sur la carte', title_x=0.5, title_font=dict(size=25, family='Arial, sans-serif'))\n",
    "\n",
    "fig.show()"
   ]
  },
  {
   "cell_type": "markdown",
   "metadata": {
    "id": "BBD-T4z1rJPg"
   },
   "source": [
    "# = preparation des data au fit model IA =\n"
   ]
  },
  {
   "cell_type": "code",
   "execution_count": 12,
   "metadata": {
    "id": "xCBsGcAd6bQn"
   },
   "outputs": [
    {
     "name": "stderr",
     "output_type": "stream",
     "text": [
      "2023-01-23 16:09:09.357899: I tensorflow/core/platform/cpu_feature_guard.cc:193] This TensorFlow binary is optimized with oneAPI Deep Neural Network Library (oneDNN) to use the following CPU instructions in performance-critical operations:  AVX2 FMA\n",
      "To enable them in other operations, rebuild TensorFlow with the appropriate compiler flags.\n",
      "2023-01-23 16:09:09.504295: W tensorflow/compiler/xla/stream_executor/platform/default/dso_loader.cc:64] Could not load dynamic library 'libcudart.so.11.0'; dlerror: libcudart.so.11.0: cannot open shared object file: No such file or directory\n",
      "2023-01-23 16:09:09.504325: I tensorflow/compiler/xla/stream_executor/cuda/cudart_stub.cc:29] Ignore above cudart dlerror if you do not have a GPU set up on your machine.\n",
      "2023-01-23 16:09:10.346337: W tensorflow/compiler/xla/stream_executor/platform/default/dso_loader.cc:64] Could not load dynamic library 'libnvinfer.so.7'; dlerror: libnvinfer.so.7: cannot open shared object file: No such file or directory\n",
      "2023-01-23 16:09:10.346501: W tensorflow/compiler/xla/stream_executor/platform/default/dso_loader.cc:64] Could not load dynamic library 'libnvinfer_plugin.so.7'; dlerror: libnvinfer_plugin.so.7: cannot open shared object file: No such file or directory\n",
      "2023-01-23 16:09:10.346516: W tensorflow/compiler/tf2tensorrt/utils/py_utils.cc:38] TF-TRT Warning: Cannot dlopen some TensorRT libraries. If you would like to use Nvidia GPU with TensorRT, please make sure the missing libraries mentioned above are installed properly.\n"
     ]
    }
   ],
   "source": [
    "from sklearn.model_selection import train_test_split\n",
    "from keras.models import Sequential\n",
    "from keras.layers import Dense\n",
    "\n",
    "from sklearn.ensemble import RandomForestRegressor\n",
    "from sklearn.model_selection import cross_val_score\n",
    "\n",
    "from sklearn.linear_model import LinearRegression\n",
    "from sklearn.preprocessing import PolynomialFeatures\n",
    "\n",
    "from sklearn.linear_model import LogisticRegression"
   ]
  },
  {
   "cell_type": "code",
   "execution_count": 13,
   "metadata": {
    "colab": {
     "base_uri": "https://localhost:8080/",
     "height": 0
    },
    "id": "ucdXRvmZhQri",
    "outputId": "e1e29381-93ca-4ace-cbd8-a1e4943ab064"
   },
   "outputs": [
    {
     "data": {
      "text/html": [
       "<div>\n",
       "<style scoped>\n",
       "    .dataframe tbody tr th:only-of-type {\n",
       "        vertical-align: middle;\n",
       "    }\n",
       "\n",
       "    .dataframe tbody tr th {\n",
       "        vertical-align: top;\n",
       "    }\n",
       "\n",
       "    .dataframe thead th {\n",
       "        text-align: right;\n",
       "    }\n",
       "</style>\n",
       "<table border=\"1\" class=\"dataframe\">\n",
       "  <thead>\n",
       "    <tr style=\"text-align: right;\">\n",
       "      <th></th>\n",
       "      <th>lat</th>\n",
       "      <th>long</th>\n",
       "      <th>depth</th>\n",
       "      <th>mag</th>\n",
       "      <th>stations</th>\n",
       "    </tr>\n",
       "  </thead>\n",
       "  <tbody>\n",
       "    <tr>\n",
       "      <th>0</th>\n",
       "      <td>-20.42</td>\n",
       "      <td>181.62</td>\n",
       "      <td>562</td>\n",
       "      <td>4.8</td>\n",
       "      <td>41</td>\n",
       "    </tr>\n",
       "    <tr>\n",
       "      <th>1</th>\n",
       "      <td>-20.62</td>\n",
       "      <td>181.03</td>\n",
       "      <td>650</td>\n",
       "      <td>4.2</td>\n",
       "      <td>15</td>\n",
       "    </tr>\n",
       "    <tr>\n",
       "      <th>2</th>\n",
       "      <td>-26.00</td>\n",
       "      <td>184.10</td>\n",
       "      <td>42</td>\n",
       "      <td>5.4</td>\n",
       "      <td>43</td>\n",
       "    </tr>\n",
       "    <tr>\n",
       "      <th>3</th>\n",
       "      <td>-17.97</td>\n",
       "      <td>181.66</td>\n",
       "      <td>626</td>\n",
       "      <td>4.1</td>\n",
       "      <td>19</td>\n",
       "    </tr>\n",
       "    <tr>\n",
       "      <th>4</th>\n",
       "      <td>-20.42</td>\n",
       "      <td>181.96</td>\n",
       "      <td>649</td>\n",
       "      <td>4.0</td>\n",
       "      <td>11</td>\n",
       "    </tr>\n",
       "  </tbody>\n",
       "</table>\n",
       "</div>"
      ],
      "text/plain": [
       "     lat    long  depth  mag  stations\n",
       "0 -20.42  181.62    562  4.8        41\n",
       "1 -20.62  181.03    650  4.2        15\n",
       "2 -26.00  184.10     42  5.4        43\n",
       "3 -17.97  181.66    626  4.1        19\n",
       "4 -20.42  181.96    649  4.0        11"
      ]
     },
     "execution_count": 13,
     "metadata": {},
     "output_type": "execute_result"
    }
   ],
   "source": [
    "data = pd.read_csv(\"https://jp-sartoris.online/data.csv\", sep=\";\") #df = pd.read_csv('https://raw.githubusercontent.com/plotly/datasets/master/earthquakes-23k.csv')\n",
    "data.head()"
   ]
  },
  {
   "cell_type": "code",
   "execution_count": 14,
   "metadata": {
    "colab": {
     "base_uri": "https://localhost:8080/"
    },
    "id": "vEuYST2K6g5f",
    "outputId": "14f6b8d2-9dbf-4b8d-e413-334c1ccbc13a"
   },
   "outputs": [
    {
     "data": {
      "text/plain": [
       "(       lat    long  depth  stations\n",
       " 687 -17.61  183.32    356        15\n",
       " 500 -16.51  187.10     62        46\n",
       " 332 -27.33  182.60     42        11\n",
       " 979 -23.00  170.70     43        20\n",
       " 817 -16.21  186.52    111        30\n",
       " ..     ...     ...    ...       ...\n",
       " 835 -15.85  185.90    121        17\n",
       " 192 -17.87  182.00    569        12\n",
       " 629 -18.48  182.37    376        57\n",
       " 559 -13.56  166.49     83        25\n",
       " 684 -15.35  186.40     98        17\n",
       " \n",
       " [800 rows x 4 columns],\n",
       " 687    4.2\n",
       " 500    4.9\n",
       " 332    4.4\n",
       " 979    4.9\n",
       " 817    4.8\n",
       "       ... \n",
       " 835    4.1\n",
       " 192    4.6\n",
       " 629    4.8\n",
       " 559    4.5\n",
       " 684    4.4\n",
       " Name: mag, Length: 800, dtype: float64,\n",
       " (800, 4),\n",
       " (200, 4))"
      ]
     },
     "execution_count": 14,
     "metadata": {},
     "output_type": "execute_result"
    }
   ],
   "source": [
    "X = data.drop(labels=\"mag\", axis=1)\n",
    "Y = data['mag']\n",
    "\n",
    "X_train,X_test,Y_train,Y_test = train_test_split(X,Y,test_size=0.2,random_state=0)\n",
    "\n",
    "X_train,Y_train,X_train.shape, X_test.shape"
   ]
  },
  {
   "cell_type": "markdown",
   "metadata": {
    "id": "XlakW-o6c3ug"
   },
   "source": [
    "# ANN"
   ]
  },
  {
   "cell_type": "code",
   "execution_count": 15,
   "metadata": {
    "id": "pLSda6Xn9xw8"
   },
   "outputs": [
    {
     "name": "stderr",
     "output_type": "stream",
     "text": [
      "2023-01-23 16:09:11.372144: I tensorflow/compiler/xla/stream_executor/cuda/cuda_gpu_executor.cc:981] successful NUMA node read from SysFS had negative value (-1), but there must be at least one NUMA node, so returning NUMA node zero\n",
      "2023-01-23 16:09:11.372869: W tensorflow/compiler/xla/stream_executor/platform/default/dso_loader.cc:64] Could not load dynamic library 'libcudart.so.11.0'; dlerror: libcudart.so.11.0: cannot open shared object file: No such file or directory\n",
      "2023-01-23 16:09:11.373015: W tensorflow/compiler/xla/stream_executor/platform/default/dso_loader.cc:64] Could not load dynamic library 'libcublas.so.11'; dlerror: libcublas.so.11: cannot open shared object file: No such file or directory\n",
      "2023-01-23 16:09:11.373136: W tensorflow/compiler/xla/stream_executor/platform/default/dso_loader.cc:64] Could not load dynamic library 'libcublasLt.so.11'; dlerror: libcublasLt.so.11: cannot open shared object file: No such file or directory\n",
      "2023-01-23 16:09:11.373260: W tensorflow/compiler/xla/stream_executor/platform/default/dso_loader.cc:64] Could not load dynamic library 'libcufft.so.10'; dlerror: libcufft.so.10: cannot open shared object file: No such file or directory\n",
      "2023-01-23 16:09:11.373393: W tensorflow/compiler/xla/stream_executor/platform/default/dso_loader.cc:64] Could not load dynamic library 'libcurand.so.10'; dlerror: libcurand.so.10: cannot open shared object file: No such file or directory\n",
      "2023-01-23 16:09:11.373512: W tensorflow/compiler/xla/stream_executor/platform/default/dso_loader.cc:64] Could not load dynamic library 'libcusolver.so.11'; dlerror: libcusolver.so.11: cannot open shared object file: No such file or directory\n",
      "2023-01-23 16:09:11.373632: W tensorflow/compiler/xla/stream_executor/platform/default/dso_loader.cc:64] Could not load dynamic library 'libcusparse.so.11'; dlerror: libcusparse.so.11: cannot open shared object file: No such file or directory\n",
      "2023-01-23 16:09:11.373747: W tensorflow/compiler/xla/stream_executor/platform/default/dso_loader.cc:64] Could not load dynamic library 'libcudnn.so.8'; dlerror: libcudnn.so.8: cannot open shared object file: No such file or directory\n",
      "2023-01-23 16:09:11.373768: W tensorflow/core/common_runtime/gpu/gpu_device.cc:1934] Cannot dlopen some GPU libraries. Please make sure the missing libraries mentioned above are installed properly if you would like to use GPU. Follow the guide at https://www.tensorflow.org/install/gpu for how to download and setup the required libraries for your platform.\n",
      "Skipping registering GPU devices...\n",
      "2023-01-23 16:09:11.374338: I tensorflow/core/platform/cpu_feature_guard.cc:193] This TensorFlow binary is optimized with oneAPI Deep Neural Network Library (oneDNN) to use the following CPU instructions in performance-critical operations:  AVX2 FMA\n",
      "To enable them in other operations, rebuild TensorFlow with the appropriate compiler flags.\n"
     ]
    }
   ],
   "source": [
    "# Création d'un modèle séquentiel\n",
    "model = Sequential()\n",
    "\n",
    "# Ajout de la première couche de neuronne cachée avec une fonction d'activation relu\n",
    "model.add(Dense(units=2048, activation='relu', input_dim=4))\n",
    "\n",
    "# Ajout de la première couche de neuronne cachée avec une fonction d'activation relu\n",
    "model.add(Dense(units=1024, activation='relu'))\n",
    "\n",
    "# Ajout de la deuxième couche de neuronne cachée avec une fonction d'activation relu\n",
    "model.add(Dense(units=512, activation='relu'))\n",
    "\n",
    "# Ajout de la deuxième couche de neuronne cachée avec une fonction d'activation relu\n",
    "model.add(Dense(units=256, activation='relu'))\n",
    "\n",
    "# Ajout de la deuxième couche de neuronne cachée avec une fonction d'activation relu\n",
    "model.add(Dense(units=128, activation='relu'))\n",
    "\n",
    "# Ajout de la deuxième couche de neuronne cachée avec une fonction d'activation relu\n",
    "model.add(Dense(units=64, activation='relu'))\n",
    "\n",
    "# Ajout de la deuxième couche de neuronne cachée avec une fonction d'activation relu\n",
    "model.add(Dense(units=32, activation='relu'))\n",
    "\n",
    "# Ajout de la deuxième couche de neuronne cachée avec une fonction d'activation relu\n",
    "model.add(Dense(units=16, activation='relu'))\n",
    "\n",
    "# Ajout de la deuxième couche de neuronne cachée avec une fonction d'activation relu\n",
    "model.add(Dense(units=8, activation='relu'))\n",
    "\n",
    "# Ajout de la deuxième couche de neuronne cachée avec une fonction d'activation relu\n",
    "model.add(Dense(units=4, activation='relu'))\n",
    "\n",
    "# Ajout de la deuxième couche de neuronne cachée avec une fonction d'activation relu\n",
    "model.add(Dense(units=2, activation='relu'))\n",
    "\n",
    "# Ajout de la couche de neuronne de sortie avec une fonction d'activation sigmoïde\n",
    "model.add(Dense(units=1)) #activation=' ' )) sigmoid softmax relu\n",
    "\n",
    "# Compilation du modèle avec une fonction de coût log loss et un optimiseur Adam\n",
    "model.compile(loss='binary_crossentropy', optimizer='adam', metrics=['accuracy'])"
   ]
  },
  {
   "cell_type": "code",
   "execution_count": 16,
   "metadata": {
    "colab": {
     "base_uri": "https://localhost:8080/"
    },
    "id": "26M4XiWi-CZv",
    "outputId": "1eb7a885-193c-45f0-dde7-fe8afcca7d73"
   },
   "outputs": [
    {
     "name": "stdout",
     "output_type": "stream",
     "text": [
      "Epoch 1/100\n",
      "25/25 [==============================] - 3s 39ms/step - loss: 71.1803 - accuracy: 0.0000e+00 - val_loss: 71.6257 - val_accuracy: 0.0000e+00\n",
      "Epoch 2/100\n",
      "25/25 [==============================] - 1s 29ms/step - loss: 71.1804 - accuracy: 0.0000e+00 - val_loss: 71.6257 - val_accuracy: 0.0000e+00\n",
      "Epoch 3/100\n",
      "25/25 [==============================] - 1s 28ms/step - loss: 71.1804 - accuracy: 0.0000e+00 - val_loss: 71.6257 - val_accuracy: 0.0000e+00\n",
      "Epoch 4/100\n",
      "25/25 [==============================] - 1s 29ms/step - loss: 71.1803 - accuracy: 0.0000e+00 - val_loss: 71.6257 - val_accuracy: 0.0000e+00\n",
      "Epoch 5/100\n",
      "25/25 [==============================] - 1s 29ms/step - loss: 71.1803 - accuracy: 0.0000e+00 - val_loss: 71.6257 - val_accuracy: 0.0000e+00\n",
      "Epoch 6/100\n",
      "25/25 [==============================] - 1s 29ms/step - loss: 71.1804 - accuracy: 0.0000e+00 - val_loss: 71.6257 - val_accuracy: 0.0000e+00\n",
      "Epoch 7/100\n",
      "25/25 [==============================] - 1s 30ms/step - loss: 71.1803 - accuracy: 0.0000e+00 - val_loss: 71.6257 - val_accuracy: 0.0000e+00\n",
      "Epoch 8/100\n",
      "25/25 [==============================] - 1s 31ms/step - loss: 71.1804 - accuracy: 0.0000e+00 - val_loss: 71.6257 - val_accuracy: 0.0000e+00\n",
      "Epoch 9/100\n",
      "25/25 [==============================] - 1s 32ms/step - loss: 71.1804 - accuracy: 0.0000e+00 - val_loss: 71.6257 - val_accuracy: 0.0000e+00\n",
      "Epoch 10/100\n",
      "25/25 [==============================] - 1s 31ms/step - loss: 71.1804 - accuracy: 0.0000e+00 - val_loss: 71.6257 - val_accuracy: 0.0000e+00\n",
      "Epoch 11/100\n",
      "25/25 [==============================] - 1s 30ms/step - loss: 71.1804 - accuracy: 0.0000e+00 - val_loss: 71.6257 - val_accuracy: 0.0000e+00\n",
      "Epoch 12/100\n",
      "25/25 [==============================] - 1s 31ms/step - loss: 71.1804 - accuracy: 0.0000e+00 - val_loss: 71.6257 - val_accuracy: 0.0000e+00\n",
      "Epoch 13/100\n",
      "25/25 [==============================] - 1s 30ms/step - loss: 71.1804 - accuracy: 0.0000e+00 - val_loss: 71.6257 - val_accuracy: 0.0000e+00\n",
      "Epoch 14/100\n",
      "25/25 [==============================] - 1s 31ms/step - loss: 71.1803 - accuracy: 0.0000e+00 - val_loss: 71.6257 - val_accuracy: 0.0000e+00\n",
      "Epoch 15/100\n",
      "25/25 [==============================] - 1s 31ms/step - loss: 71.1804 - accuracy: 0.0000e+00 - val_loss: 71.6257 - val_accuracy: 0.0000e+00\n",
      "Epoch 16/100\n",
      "25/25 [==============================] - 1s 30ms/step - loss: 71.1804 - accuracy: 0.0000e+00 - val_loss: 71.6257 - val_accuracy: 0.0000e+00\n",
      "Epoch 17/100\n",
      "25/25 [==============================] - 1s 32ms/step - loss: 71.1804 - accuracy: 0.0000e+00 - val_loss: 71.6257 - val_accuracy: 0.0000e+00\n",
      "Epoch 18/100\n",
      "25/25 [==============================] - 1s 30ms/step - loss: 71.1804 - accuracy: 0.0000e+00 - val_loss: 71.6257 - val_accuracy: 0.0000e+00\n",
      "Epoch 19/100\n",
      "25/25 [==============================] - 1s 31ms/step - loss: 71.1804 - accuracy: 0.0000e+00 - val_loss: 71.6257 - val_accuracy: 0.0000e+00\n",
      "Epoch 20/100\n",
      "25/25 [==============================] - 1s 34ms/step - loss: 71.1804 - accuracy: 0.0000e+00 - val_loss: 71.6257 - val_accuracy: 0.0000e+00\n",
      "Epoch 21/100\n",
      "25/25 [==============================] - 1s 29ms/step - loss: 71.1803 - accuracy: 0.0000e+00 - val_loss: 71.6257 - val_accuracy: 0.0000e+00\n",
      "Epoch 22/100\n",
      "25/25 [==============================] - 1s 29ms/step - loss: 71.1804 - accuracy: 0.0000e+00 - val_loss: 71.6257 - val_accuracy: 0.0000e+00\n",
      "Epoch 23/100\n",
      "25/25 [==============================] - 1s 30ms/step - loss: 71.1804 - accuracy: 0.0000e+00 - val_loss: 71.6257 - val_accuracy: 0.0000e+00\n",
      "Epoch 24/100\n",
      "25/25 [==============================] - 1s 32ms/step - loss: 71.1804 - accuracy: 0.0000e+00 - val_loss: 71.6257 - val_accuracy: 0.0000e+00\n",
      "Epoch 25/100\n",
      "25/25 [==============================] - 1s 33ms/step - loss: 71.1804 - accuracy: 0.0000e+00 - val_loss: 71.6257 - val_accuracy: 0.0000e+00\n",
      "Epoch 26/100\n",
      "25/25 [==============================] - 1s 32ms/step - loss: 71.1804 - accuracy: 0.0000e+00 - val_loss: 71.6257 - val_accuracy: 0.0000e+00\n",
      "Epoch 27/100\n",
      "25/25 [==============================] - 1s 32ms/step - loss: 71.1804 - accuracy: 0.0000e+00 - val_loss: 71.6257 - val_accuracy: 0.0000e+00\n",
      "Epoch 28/100\n",
      "25/25 [==============================] - 1s 31ms/step - loss: 71.1804 - accuracy: 0.0000e+00 - val_loss: 71.6257 - val_accuracy: 0.0000e+00\n",
      "Epoch 29/100\n",
      "25/25 [==============================] - 1s 32ms/step - loss: 71.1803 - accuracy: 0.0000e+00 - val_loss: 71.6257 - val_accuracy: 0.0000e+00\n",
      "Epoch 30/100\n",
      "25/25 [==============================] - 1s 32ms/step - loss: 71.1804 - accuracy: 0.0000e+00 - val_loss: 71.6257 - val_accuracy: 0.0000e+00\n",
      "Epoch 31/100\n",
      "25/25 [==============================] - 1s 31ms/step - loss: 71.1804 - accuracy: 0.0000e+00 - val_loss: 71.6257 - val_accuracy: 0.0000e+00\n",
      "Epoch 32/100\n",
      "25/25 [==============================] - 1s 30ms/step - loss: 71.1804 - accuracy: 0.0000e+00 - val_loss: 71.6257 - val_accuracy: 0.0000e+00\n",
      "Epoch 33/100\n",
      "25/25 [==============================] - 1s 33ms/step - loss: 71.1804 - accuracy: 0.0000e+00 - val_loss: 71.6257 - val_accuracy: 0.0000e+00\n",
      "Epoch 34/100\n",
      "25/25 [==============================] - 1s 34ms/step - loss: 71.1804 - accuracy: 0.0000e+00 - val_loss: 71.6257 - val_accuracy: 0.0000e+00\n",
      "Epoch 35/100\n",
      "25/25 [==============================] - 1s 34ms/step - loss: 71.1804 - accuracy: 0.0000e+00 - val_loss: 71.6257 - val_accuracy: 0.0000e+00\n",
      "Epoch 36/100\n",
      "25/25 [==============================] - 1s 33ms/step - loss: 71.1804 - accuracy: 0.0000e+00 - val_loss: 71.6257 - val_accuracy: 0.0000e+00\n",
      "Epoch 37/100\n",
      "25/25 [==============================] - 1s 35ms/step - loss: 71.1804 - accuracy: 0.0000e+00 - val_loss: 71.6257 - val_accuracy: 0.0000e+00\n",
      "Epoch 38/100\n",
      "25/25 [==============================] - 1s 30ms/step - loss: 71.1804 - accuracy: 0.0000e+00 - val_loss: 71.6257 - val_accuracy: 0.0000e+00\n",
      "Epoch 39/100\n",
      "25/25 [==============================] - 1s 29ms/step - loss: 71.1803 - accuracy: 0.0000e+00 - val_loss: 71.6257 - val_accuracy: 0.0000e+00\n",
      "Epoch 40/100\n",
      "25/25 [==============================] - 1s 29ms/step - loss: 71.1804 - accuracy: 0.0000e+00 - val_loss: 71.6257 - val_accuracy: 0.0000e+00\n",
      "Epoch 41/100\n",
      "25/25 [==============================] - 1s 30ms/step - loss: 71.1803 - accuracy: 0.0000e+00 - val_loss: 71.6257 - val_accuracy: 0.0000e+00\n",
      "Epoch 42/100\n",
      "25/25 [==============================] - 1s 30ms/step - loss: 71.1803 - accuracy: 0.0000e+00 - val_loss: 71.6257 - val_accuracy: 0.0000e+00\n",
      "Epoch 43/100\n",
      "25/25 [==============================] - 1s 29ms/step - loss: 71.1804 - accuracy: 0.0000e+00 - val_loss: 71.6257 - val_accuracy: 0.0000e+00\n",
      "Epoch 44/100\n",
      "25/25 [==============================] - 1s 29ms/step - loss: 71.1803 - accuracy: 0.0000e+00 - val_loss: 71.6257 - val_accuracy: 0.0000e+00\n",
      "Epoch 45/100\n",
      "25/25 [==============================] - 1s 30ms/step - loss: 71.1804 - accuracy: 0.0000e+00 - val_loss: 71.6257 - val_accuracy: 0.0000e+00\n",
      "Epoch 46/100\n",
      "25/25 [==============================] - 1s 29ms/step - loss: 71.1804 - accuracy: 0.0000e+00 - val_loss: 71.6257 - val_accuracy: 0.0000e+00\n",
      "Epoch 47/100\n",
      "25/25 [==============================] - 1s 29ms/step - loss: 71.1804 - accuracy: 0.0000e+00 - val_loss: 71.6257 - val_accuracy: 0.0000e+00\n",
      "Epoch 48/100\n",
      "25/25 [==============================] - 1s 30ms/step - loss: 71.1804 - accuracy: 0.0000e+00 - val_loss: 71.6257 - val_accuracy: 0.0000e+00\n",
      "Epoch 49/100\n",
      "25/25 [==============================] - 1s 29ms/step - loss: 71.1804 - accuracy: 0.0000e+00 - val_loss: 71.6257 - val_accuracy: 0.0000e+00\n",
      "Epoch 50/100\n",
      "25/25 [==============================] - 1s 34ms/step - loss: 71.1804 - accuracy: 0.0000e+00 - val_loss: 71.6257 - val_accuracy: 0.0000e+00\n",
      "Epoch 51/100\n",
      "25/25 [==============================] - 1s 32ms/step - loss: 71.1804 - accuracy: 0.0000e+00 - val_loss: 71.6257 - val_accuracy: 0.0000e+00\n",
      "Epoch 52/100\n",
      "25/25 [==============================] - 1s 28ms/step - loss: 71.1804 - accuracy: 0.0000e+00 - val_loss: 71.6257 - val_accuracy: 0.0000e+00\n",
      "Epoch 53/100\n",
      "25/25 [==============================] - 1s 30ms/step - loss: 71.1804 - accuracy: 0.0000e+00 - val_loss: 71.6257 - val_accuracy: 0.0000e+00\n",
      "Epoch 54/100\n",
      "25/25 [==============================] - 1s 31ms/step - loss: 71.1804 - accuracy: 0.0000e+00 - val_loss: 71.6257 - val_accuracy: 0.0000e+00\n",
      "Epoch 55/100\n",
      "25/25 [==============================] - 1s 32ms/step - loss: 71.1804 - accuracy: 0.0000e+00 - val_loss: 71.6257 - val_accuracy: 0.0000e+00\n",
      "Epoch 56/100\n",
      "25/25 [==============================] - 1s 30ms/step - loss: 71.1804 - accuracy: 0.0000e+00 - val_loss: 71.6257 - val_accuracy: 0.0000e+00\n",
      "Epoch 57/100\n",
      "25/25 [==============================] - 1s 30ms/step - loss: 71.1803 - accuracy: 0.0000e+00 - val_loss: 71.6257 - val_accuracy: 0.0000e+00\n",
      "Epoch 58/100\n",
      "25/25 [==============================] - 1s 31ms/step - loss: 71.1804 - accuracy: 0.0000e+00 - val_loss: 71.6257 - val_accuracy: 0.0000e+00\n",
      "Epoch 59/100\n",
      "25/25 [==============================] - 1s 29ms/step - loss: 71.1803 - accuracy: 0.0000e+00 - val_loss: 71.6257 - val_accuracy: 0.0000e+00\n",
      "Epoch 60/100\n",
      "25/25 [==============================] - 1s 30ms/step - loss: 71.1803 - accuracy: 0.0000e+00 - val_loss: 71.6257 - val_accuracy: 0.0000e+00\n",
      "Epoch 61/100\n",
      "25/25 [==============================] - 1s 30ms/step - loss: 71.1803 - accuracy: 0.0000e+00 - val_loss: 71.6257 - val_accuracy: 0.0000e+00\n",
      "Epoch 62/100\n",
      "25/25 [==============================] - 1s 33ms/step - loss: 71.1804 - accuracy: 0.0000e+00 - val_loss: 71.6257 - val_accuracy: 0.0000e+00\n",
      "Epoch 63/100\n",
      "25/25 [==============================] - 1s 31ms/step - loss: 71.1804 - accuracy: 0.0000e+00 - val_loss: 71.6257 - val_accuracy: 0.0000e+00\n",
      "Epoch 64/100\n",
      "25/25 [==============================] - 1s 32ms/step - loss: 71.1804 - accuracy: 0.0000e+00 - val_loss: 71.6257 - val_accuracy: 0.0000e+00\n",
      "Epoch 65/100\n",
      "25/25 [==============================] - 1s 33ms/step - loss: 71.1804 - accuracy: 0.0000e+00 - val_loss: 71.6257 - val_accuracy: 0.0000e+00\n",
      "Epoch 66/100\n",
      "25/25 [==============================] - 1s 33ms/step - loss: 71.1804 - accuracy: 0.0000e+00 - val_loss: 71.6257 - val_accuracy: 0.0000e+00\n",
      "Epoch 67/100\n",
      "25/25 [==============================] - 1s 31ms/step - loss: 71.1804 - accuracy: 0.0000e+00 - val_loss: 71.6257 - val_accuracy: 0.0000e+00\n",
      "Epoch 68/100\n",
      "25/25 [==============================] - 1s 31ms/step - loss: 71.1804 - accuracy: 0.0000e+00 - val_loss: 71.6257 - val_accuracy: 0.0000e+00\n",
      "Epoch 69/100\n",
      "25/25 [==============================] - 1s 31ms/step - loss: 71.1804 - accuracy: 0.0000e+00 - val_loss: 71.6257 - val_accuracy: 0.0000e+00\n",
      "Epoch 70/100\n",
      "25/25 [==============================] - 1s 30ms/step - loss: 71.1804 - accuracy: 0.0000e+00 - val_loss: 71.6257 - val_accuracy: 0.0000e+00\n",
      "Epoch 71/100\n",
      "25/25 [==============================] - 1s 31ms/step - loss: 71.1804 - accuracy: 0.0000e+00 - val_loss: 71.6257 - val_accuracy: 0.0000e+00\n",
      "Epoch 72/100\n",
      "25/25 [==============================] - 1s 29ms/step - loss: 71.1803 - accuracy: 0.0000e+00 - val_loss: 71.6257 - val_accuracy: 0.0000e+00\n",
      "Epoch 73/100\n",
      "25/25 [==============================] - 1s 31ms/step - loss: 71.1803 - accuracy: 0.0000e+00 - val_loss: 71.6257 - val_accuracy: 0.0000e+00\n",
      "Epoch 74/100\n",
      "25/25 [==============================] - 1s 29ms/step - loss: 71.1804 - accuracy: 0.0000e+00 - val_loss: 71.6257 - val_accuracy: 0.0000e+00\n",
      "Epoch 75/100\n",
      "25/25 [==============================] - 1s 29ms/step - loss: 71.1804 - accuracy: 0.0000e+00 - val_loss: 71.6257 - val_accuracy: 0.0000e+00\n",
      "Epoch 76/100\n",
      "25/25 [==============================] - 1s 29ms/step - loss: 71.1804 - accuracy: 0.0000e+00 - val_loss: 71.6257 - val_accuracy: 0.0000e+00\n",
      "Epoch 77/100\n",
      "25/25 [==============================] - 1s 30ms/step - loss: 71.1804 - accuracy: 0.0000e+00 - val_loss: 71.6257 - val_accuracy: 0.0000e+00\n",
      "Epoch 78/100\n",
      "25/25 [==============================] - 1s 28ms/step - loss: 71.1803 - accuracy: 0.0000e+00 - val_loss: 71.6257 - val_accuracy: 0.0000e+00\n",
      "Epoch 79/100\n",
      "25/25 [==============================] - 1s 30ms/step - loss: 71.1804 - accuracy: 0.0000e+00 - val_loss: 71.6257 - val_accuracy: 0.0000e+00\n",
      "Epoch 80/100\n",
      "25/25 [==============================] - 1s 29ms/step - loss: 71.1804 - accuracy: 0.0000e+00 - val_loss: 71.6257 - val_accuracy: 0.0000e+00\n",
      "Epoch 81/100\n",
      "25/25 [==============================] - 1s 30ms/step - loss: 71.1804 - accuracy: 0.0000e+00 - val_loss: 71.6257 - val_accuracy: 0.0000e+00\n",
      "Epoch 82/100\n",
      "25/25 [==============================] - 1s 28ms/step - loss: 71.1804 - accuracy: 0.0000e+00 - val_loss: 71.6257 - val_accuracy: 0.0000e+00\n",
      "Epoch 83/100\n",
      "25/25 [==============================] - 1s 33ms/step - loss: 71.1804 - accuracy: 0.0000e+00 - val_loss: 71.6257 - val_accuracy: 0.0000e+00\n",
      "Epoch 84/100\n",
      "25/25 [==============================] - 1s 33ms/step - loss: 71.1804 - accuracy: 0.0000e+00 - val_loss: 71.6257 - val_accuracy: 0.0000e+00\n",
      "Epoch 85/100\n",
      "25/25 [==============================] - 1s 29ms/step - loss: 71.1804 - accuracy: 0.0000e+00 - val_loss: 71.6257 - val_accuracy: 0.0000e+00\n",
      "Epoch 86/100\n",
      "25/25 [==============================] - 1s 29ms/step - loss: 71.1804 - accuracy: 0.0000e+00 - val_loss: 71.6257 - val_accuracy: 0.0000e+00\n",
      "Epoch 87/100\n",
      "25/25 [==============================] - 1s 29ms/step - loss: 71.1804 - accuracy: 0.0000e+00 - val_loss: 71.6257 - val_accuracy: 0.0000e+00\n",
      "Epoch 88/100\n",
      "25/25 [==============================] - 1s 29ms/step - loss: 71.1804 - accuracy: 0.0000e+00 - val_loss: 71.6257 - val_accuracy: 0.0000e+00\n",
      "Epoch 89/100\n",
      "25/25 [==============================] - 1s 30ms/step - loss: 71.1804 - accuracy: 0.0000e+00 - val_loss: 71.6257 - val_accuracy: 0.0000e+00\n",
      "Epoch 90/100\n",
      "25/25 [==============================] - 1s 30ms/step - loss: 71.1804 - accuracy: 0.0000e+00 - val_loss: 71.6257 - val_accuracy: 0.0000e+00\n",
      "Epoch 91/100\n",
      "25/25 [==============================] - 1s 29ms/step - loss: 71.1804 - accuracy: 0.0000e+00 - val_loss: 71.6257 - val_accuracy: 0.0000e+00\n",
      "Epoch 92/100\n",
      "25/25 [==============================] - 1s 29ms/step - loss: 71.1804 - accuracy: 0.0000e+00 - val_loss: 71.6257 - val_accuracy: 0.0000e+00\n",
      "Epoch 93/100\n",
      "25/25 [==============================] - 1s 32ms/step - loss: 71.1803 - accuracy: 0.0000e+00 - val_loss: 71.6257 - val_accuracy: 0.0000e+00\n",
      "Epoch 94/100\n",
      "25/25 [==============================] - 1s 32ms/step - loss: 71.1804 - accuracy: 0.0000e+00 - val_loss: 71.6257 - val_accuracy: 0.0000e+00\n",
      "Epoch 95/100\n",
      "25/25 [==============================] - 1s 31ms/step - loss: 71.1804 - accuracy: 0.0000e+00 - val_loss: 71.6257 - val_accuracy: 0.0000e+00\n",
      "Epoch 96/100\n",
      "25/25 [==============================] - 1s 30ms/step - loss: 71.1804 - accuracy: 0.0000e+00 - val_loss: 71.6257 - val_accuracy: 0.0000e+00\n",
      "Epoch 97/100\n",
      "25/25 [==============================] - 1s 30ms/step - loss: 71.1804 - accuracy: 0.0000e+00 - val_loss: 71.6257 - val_accuracy: 0.0000e+00\n",
      "Epoch 98/100\n",
      "25/25 [==============================] - 1s 30ms/step - loss: 71.1804 - accuracy: 0.0000e+00 - val_loss: 71.6257 - val_accuracy: 0.0000e+00\n",
      "Epoch 99/100\n",
      "25/25 [==============================] - 1s 30ms/step - loss: 71.1804 - accuracy: 0.0000e+00 - val_loss: 71.6257 - val_accuracy: 0.0000e+00\n",
      "Epoch 100/100\n",
      "25/25 [==============================] - 1s 31ms/step - loss: 71.1803 - accuracy: 0.0000e+00 - val_loss: 71.6257 - val_accuracy: 0.0000e+00\n"
     ]
    },
    {
     "data": {
      "text/plain": [
       "<keras.callbacks.History at 0x7f5ca036cca0>"
      ]
     },
     "execution_count": 16,
     "metadata": {},
     "output_type": "execute_result"
    }
   ],
   "source": [
    "model.fit(X_train, Y_train, batch_size=32,epochs = 100, validation_data=(X_test,Y_test))"
   ]
  },
  {
   "cell_type": "code",
   "execution_count": 17,
   "metadata": {
    "colab": {
     "base_uri": "https://localhost:8080/"
    },
    "id": "pW83FsmYYNO_",
    "outputId": "707d9f30-10a7-4b51-f2f4-64ef37242e9e"
   },
   "outputs": [
    {
     "name": "stdout",
     "output_type": "stream",
     "text": [
      "1/1 [==============================] - 0s 208ms/step\n",
      "[[0.]]\n"
     ]
    }
   ],
   "source": [
    "# Convertir la liste en dataframe pandas\n",
    "#df = pd.DataFrame([[-15.94,184.95,306,11]])#4.3\n",
    "#df = pd.DataFrame([[-21.68,180.63,617,63]])#5 \n",
    "df = pd.DataFrame([[-14.28,170.34,642,29]])#4.7\n",
    "#df = pd.DataFrame([[49.130111693866255, 2.2864298195198254,250,56]])\n",
    "\n",
    "# Effectuer une prédiction sur les données\n",
    "prediction = model.predict(df)\n",
    "\n",
    "print(prediction) "
   ]
  },
  {
   "cell_type": "markdown",
   "metadata": {
    "id": "NokFHC9W2yZ6"
   },
   "source": []
  },
  {
   "cell_type": "markdown",
   "metadata": {
    "id": "KGjfvx3meJiw"
   },
   "source": [
    "# LinearRegression\n"
   ]
  },
  {
   "cell_type": "code",
   "execution_count": 45,
   "metadata": {
    "id": "DTC1wNMjeQnn"
   },
   "outputs": [],
   "source": [
    "from sklearn.linear_model import LinearRegression\n",
    "from sklearn.model_selection import cross_val_score"
   ]
  },
  {
   "cell_type": "code",
   "execution_count": 46,
   "metadata": {
    "colab": {
     "base_uri": "https://localhost:8080/"
    },
    "id": "iaCR7AWGgPOZ",
    "outputId": "4eda84dd-1e31-4bd4-8a87-4fdea9f15cc8"
   },
   "outputs": [
    {
     "data": {
      "text/plain": [
       "0.7677997161847486"
      ]
     },
     "execution_count": 46,
     "metadata": {},
     "output_type": "execute_result"
    }
   ],
   "source": [
    "linmodel = LinearRegression().fit(X_train, Y_train) \n",
    "linmodel.fit(X_train, Y_train)\n",
    "linmodel.score(X_train, Y_train)"
   ]
  },
  {
   "cell_type": "code",
   "execution_count": 47,
   "metadata": {
    "colab": {
     "base_uri": "https://localhost:8080/"
    },
    "id": "JiMjqFnDh0CO",
    "outputId": "4633f2f5-d6c5-44b4-8227-96953d17055a"
   },
   "outputs": [
    {
     "data": {
      "text/plain": [
       "0.7830636763036731"
      ]
     },
     "execution_count": 47,
     "metadata": {},
     "output_type": "execute_result"
    }
   ],
   "source": [
    "linmodel.score(X_test,Y_test)"
   ]
  },
  {
   "cell_type": "code",
   "execution_count": 48,
   "metadata": {
    "colab": {
     "base_uri": "https://localhost:8080/"
    },
    "id": "_L19EJ5oyzfF",
    "outputId": "d368a6c8-7253-49a0-c540-fa8782019ace"
   },
   "outputs": [
    {
     "data": {
      "text/plain": [
       "array([0.8230947 , 0.66658987, 0.70254923, 0.76669835, 0.8827719 ])"
      ]
     },
     "execution_count": 48,
     "metadata": {},
     "output_type": "execute_result"
    }
   ],
   "source": [
    "cross_val_score(linmodel,X_test, Y_test, cv=5)"
   ]
  },
  {
   "cell_type": "code",
   "execution_count": 49,
   "metadata": {
    "colab": {
     "base_uri": "https://localhost:8080/"
    },
    "id": "gvt-O9Hf3_41",
    "outputId": "d806cbdf-edbf-4762-f81c-0763c905a38a"
   },
   "outputs": [
    {
     "name": "stdout",
     "output_type": "stream",
     "text": [
      "[6.09330016]\n"
     ]
    },
    {
     "name": "stderr",
     "output_type": "stream",
     "text": [
      "/home/utilisateur/Bureau/SARTORIS_mesures_des_tremblements_de_terre_sur_l_île_de_Fiji/venv/lib/python3.10/site-packages/sklearn/base.py:409: UserWarning:\n",
      "\n",
      "X does not have valid feature names, but PolynomialFeatures was fitted with feature names\n",
      "\n"
     ]
    }
   ],
   "source": [
    "# Convertir la liste en dataframe pandas\n",
    "#df = pd.DataFrame([[-15.94,184.95,306,11]])#4.3\n",
    "#df = pd.DataFrame([[-21.68,180.63,617,63]])#5 \n",
    "#df = pd.DataFrame([[-14.28,170.34,642,29]])#4.7\n",
    "#df = pd.DataFrame([[49.130111693866255, 2.2864298195198254,250,56]])\n",
    "df = pd.DataFrame([[-15.56, 167.62, 127, 122]]) #6.4\n",
    "\n",
    "# Effectuer une prédiction sur les données\n",
    "prediction = model.predict(poly.transform(df))\n",
    "\n",
    "print(prediction)"
   ]
  },
  {
   "cell_type": "markdown",
   "metadata": {
    "id": "U4Gr5Vaph9vN"
   },
   "source": [
    "============================================"
   ]
  },
  {
   "cell_type": "markdown",
   "metadata": {
    "id": "sSjX_AieyFdF"
   },
   "source": [
    "# random forest"
   ]
  },
  {
   "cell_type": "code",
   "execution_count": 23,
   "metadata": {
    "colab": {
     "base_uri": "https://localhost:8080/"
    },
    "id": "wCGy4-gcxgEh",
    "outputId": "20801ca8-23c4-40c0-ed06-724019c1b92b"
   },
   "outputs": [
    {
     "name": "stdout",
     "output_type": "stream",
     "text": [
      "0.8545083749842532\n"
     ]
    }
   ],
   "source": [
    "grid_search_mod = 0\n",
    "if grid_search_mod == 0:\n",
    "  rf = RandomForestRegressor(max_depth=7, min_samples_split=22, n_estimators = 185, random_state = 1)\n",
    "\n",
    "  rf.fit(X_train, Y_train)\n",
    "\n",
    "  y_pred=rf.predict(X_test)\n",
    "  print(rf.score(X_train,Y_train))\n",
    "else:\n",
    "  param_grid = {\n",
    "    'n_estimators': range(180,190),\n",
    "    'max_depth': range(0,10),\n",
    "    'min_samples_split': range(20,30)\n",
    "  }\n",
    "\n",
    "  from sklearn.model_selection import GridSearchCV\n",
    "  rf = RandomForestRegressor()\n",
    "  grid_search = GridSearchCV(estimator = rf, param_grid = param_grid, cv = 3, n_jobs = -1, verbose = 1)\n",
    "  grid_search.fit(X_train, Y_train)\n",
    "  print(grid_search.best_params_)"
   ]
  },
  {
   "cell_type": "code",
   "execution_count": 24,
   "metadata": {
    "colab": {
     "base_uri": "https://localhost:8080/"
    },
    "id": "9R-dI4RskRhc",
    "outputId": "ee2c746b-c2be-404f-868e-00cd13f75dce"
   },
   "outputs": [
    {
     "data": {
      "text/plain": [
       "0.7780923746857665"
      ]
     },
     "execution_count": 24,
     "metadata": {},
     "output_type": "execute_result"
    }
   ],
   "source": [
    "rf.score(X_test,Y_test)"
   ]
  },
  {
   "cell_type": "code",
   "execution_count": 25,
   "metadata": {
    "colab": {
     "base_uri": "https://localhost:8080/"
    },
    "id": "hwUoG9mFlf7g",
    "outputId": "f75f9c17-d921-400d-ee92-35b255219152"
   },
   "outputs": [
    {
     "data": {
      "text/plain": [
       "array([0.76915965, 0.73283004, 0.71242265, 0.67019054, 0.81979224])"
      ]
     },
     "execution_count": 25,
     "metadata": {},
     "output_type": "execute_result"
    }
   ],
   "source": [
    "cross_val_score(rf,X_test, Y_test, cv=5)"
   ]
  },
  {
   "cell_type": "code",
   "execution_count": 42,
   "metadata": {
    "colab": {
     "base_uri": "https://localhost:8080/"
    },
    "id": "N8K5sogwkXxg",
    "outputId": "f61d2a89-0026-4f8b-f92c-2c38eb4381de"
   },
   "outputs": [
    {
     "name": "stdout",
     "output_type": "stream",
     "text": [
      "[5.79141635]\n"
     ]
    },
    {
     "name": "stderr",
     "output_type": "stream",
     "text": [
      "/home/utilisateur/Bureau/SARTORIS_mesures_des_tremblements_de_terre_sur_l_île_de_Fiji/venv/lib/python3.10/site-packages/sklearn/base.py:409: UserWarning:\n",
      "\n",
      "X does not have valid feature names, but RandomForestRegressor was fitted with feature names\n",
      "\n"
     ]
    }
   ],
   "source": [
    "# Convertir la liste en dataframe pandas\n",
    "#df = pd.DataFrame([[-15.94,184.95,306,11]])#4.3\n",
    "#df = pd.DataFrame([[-21.68,180.63,617,63]])#5 \n",
    "#df = pd.DataFrame([[-14.28,170.34,642,29]])#4.7\n",
    "#df = pd.DataFrame([[49.130111693866255, 2.2864298195198254,250,56]])\n",
    "df = pd.DataFrame([[-15.56, 167.62, 127, 122]]) #6.4\n",
    "\n",
    "# Effectuer une prédiction sur les données\n",
    "prediction = rf.predict(df)\n",
    "\n",
    "print(prediction) "
   ]
  },
  {
   "cell_type": "code",
   "execution_count": 27,
   "metadata": {
    "id": "Bjv4fCdCd4ks"
   },
   "outputs": [],
   "source": [
    "import pickle\n",
    "with open('model.pkl', 'wb') as f:\n",
    "    pickle.dump(rf, f)"
   ]
  },
  {
   "cell_type": "code",
   "execution_count": 28,
   "metadata": {
    "colab": {
     "base_uri": "https://localhost:8080/"
    },
    "id": "IpmUP_tj1BUj",
    "outputId": "7bf6be6d-9ce1-466c-a8b9-21f6c70e67f7"
   },
   "outputs": [
    {
     "data": {
      "text/plain": [
       "['model.joblib']"
      ]
     },
     "execution_count": 28,
     "metadata": {},
     "output_type": "execute_result"
    }
   ],
   "source": [
    "from joblib import dump\n",
    "# Sauvegarder le modèle\n",
    "dump(rf, 'model.joblib')"
   ]
  },
  {
   "cell_type": "markdown",
   "metadata": {
    "id": "wtv88ZOE0l4O"
   },
   "source": [
    "# Polynomial Regression"
   ]
  },
  {
   "cell_type": "code",
   "execution_count": 29,
   "metadata": {
    "id": "DOoE-d3E1ku8"
   },
   "outputs": [],
   "source": [
    "from sklearn.preprocessing import PolynomialFeatures"
   ]
  },
  {
   "cell_type": "code",
   "execution_count": 30,
   "metadata": {
    "colab": {
     "base_uri": "https://localhost:8080/"
    },
    "id": "JEUYTrsi3X6w",
    "outputId": "fd56c537-527d-4c97-995b-78f7f783c6f6"
   },
   "outputs": [
    {
     "data": {
      "text/html": [
       "<style>#sk-container-id-1 {color: black;background-color: white;}#sk-container-id-1 pre{padding: 0;}#sk-container-id-1 div.sk-toggleable {background-color: white;}#sk-container-id-1 label.sk-toggleable__label {cursor: pointer;display: block;width: 100%;margin-bottom: 0;padding: 0.3em;box-sizing: border-box;text-align: center;}#sk-container-id-1 label.sk-toggleable__label-arrow:before {content: \"▸\";float: left;margin-right: 0.25em;color: #696969;}#sk-container-id-1 label.sk-toggleable__label-arrow:hover:before {color: black;}#sk-container-id-1 div.sk-estimator:hover label.sk-toggleable__label-arrow:before {color: black;}#sk-container-id-1 div.sk-toggleable__content {max-height: 0;max-width: 0;overflow: hidden;text-align: left;background-color: #f0f8ff;}#sk-container-id-1 div.sk-toggleable__content pre {margin: 0.2em;color: black;border-radius: 0.25em;background-color: #f0f8ff;}#sk-container-id-1 input.sk-toggleable__control:checked~div.sk-toggleable__content {max-height: 200px;max-width: 100%;overflow: auto;}#sk-container-id-1 input.sk-toggleable__control:checked~label.sk-toggleable__label-arrow:before {content: \"▾\";}#sk-container-id-1 div.sk-estimator input.sk-toggleable__control:checked~label.sk-toggleable__label {background-color: #d4ebff;}#sk-container-id-1 div.sk-label input.sk-toggleable__control:checked~label.sk-toggleable__label {background-color: #d4ebff;}#sk-container-id-1 input.sk-hidden--visually {border: 0;clip: rect(1px 1px 1px 1px);clip: rect(1px, 1px, 1px, 1px);height: 1px;margin: -1px;overflow: hidden;padding: 0;position: absolute;width: 1px;}#sk-container-id-1 div.sk-estimator {font-family: monospace;background-color: #f0f8ff;border: 1px dotted black;border-radius: 0.25em;box-sizing: border-box;margin-bottom: 0.5em;}#sk-container-id-1 div.sk-estimator:hover {background-color: #d4ebff;}#sk-container-id-1 div.sk-parallel-item::after {content: \"\";width: 100%;border-bottom: 1px solid gray;flex-grow: 1;}#sk-container-id-1 div.sk-label:hover label.sk-toggleable__label {background-color: #d4ebff;}#sk-container-id-1 div.sk-serial::before {content: \"\";position: absolute;border-left: 1px solid gray;box-sizing: border-box;top: 0;bottom: 0;left: 50%;z-index: 0;}#sk-container-id-1 div.sk-serial {display: flex;flex-direction: column;align-items: center;background-color: white;padding-right: 0.2em;padding-left: 0.2em;position: relative;}#sk-container-id-1 div.sk-item {position: relative;z-index: 1;}#sk-container-id-1 div.sk-parallel {display: flex;align-items: stretch;justify-content: center;background-color: white;position: relative;}#sk-container-id-1 div.sk-item::before, #sk-container-id-1 div.sk-parallel-item::before {content: \"\";position: absolute;border-left: 1px solid gray;box-sizing: border-box;top: 0;bottom: 0;left: 50%;z-index: -1;}#sk-container-id-1 div.sk-parallel-item {display: flex;flex-direction: column;z-index: 1;position: relative;background-color: white;}#sk-container-id-1 div.sk-parallel-item:first-child::after {align-self: flex-end;width: 50%;}#sk-container-id-1 div.sk-parallel-item:last-child::after {align-self: flex-start;width: 50%;}#sk-container-id-1 div.sk-parallel-item:only-child::after {width: 0;}#sk-container-id-1 div.sk-dashed-wrapped {border: 1px dashed gray;margin: 0 0.4em 0.5em 0.4em;box-sizing: border-box;padding-bottom: 0.4em;background-color: white;}#sk-container-id-1 div.sk-label label {font-family: monospace;font-weight: bold;display: inline-block;line-height: 1.2em;}#sk-container-id-1 div.sk-label-container {text-align: center;}#sk-container-id-1 div.sk-container {/* jupyter's `normalize.less` sets `[hidden] { display: none; }` but bootstrap.min.css set `[hidden] { display: none !important; }` so we also need the `!important` here to be able to override the default hidden behavior on the sphinx rendered scikit-learn.org. See: https://github.com/scikit-learn/scikit-learn/issues/21755 */display: inline-block !important;position: relative;}#sk-container-id-1 div.sk-text-repr-fallback {display: none;}</style><div id=\"sk-container-id-1\" class=\"sk-top-container\"><div class=\"sk-text-repr-fallback\"><pre>LinearRegression()</pre><b>In a Jupyter environment, please rerun this cell to show the HTML representation or trust the notebook. <br />On GitHub, the HTML representation is unable to render, please try loading this page with nbviewer.org.</b></div><div class=\"sk-container\" hidden><div class=\"sk-item\"><div class=\"sk-estimator sk-toggleable\"><input class=\"sk-toggleable__control sk-hidden--visually\" id=\"sk-estimator-id-1\" type=\"checkbox\" checked><label for=\"sk-estimator-id-1\" class=\"sk-toggleable__label sk-toggleable__label-arrow\">LinearRegression</label><div class=\"sk-toggleable__content\"><pre>LinearRegression()</pre></div></div></div></div></div>"
      ],
      "text/plain": [
       "LinearRegression()"
      ]
     },
     "execution_count": 30,
     "metadata": {},
     "output_type": "execute_result"
    }
   ],
   "source": [
    "# Transformer les données en termes polynomiaux\n",
    "poly = PolynomialFeatures(degree=3)\n",
    "x_poly = poly.fit_transform(X_train)\n",
    "\n",
    "# Entraîner le modèle de régression polynomiale\n",
    "model = LinearRegression()\n",
    "model.fit(x_poly, Y_train)"
   ]
  },
  {
   "cell_type": "code",
   "execution_count": 31,
   "metadata": {
    "colab": {
     "base_uri": "https://localhost:8080/"
    },
    "id": "lLj3mlxk67Fq",
    "outputId": "3b5bc655-b276-4ba1-b292-58de6868257e"
   },
   "outputs": [
    {
     "data": {
      "text/plain": [
       "array([0.8230947 , 0.66658987, 0.70254923, 0.76669835, 0.8827719 ])"
      ]
     },
     "execution_count": 31,
     "metadata": {},
     "output_type": "execute_result"
    }
   ],
   "source": [
    "cross_val_score(model,X_test, Y_test, cv=5)"
   ]
  },
  {
   "cell_type": "code",
   "execution_count": 32,
   "metadata": {
    "colab": {
     "base_uri": "https://localhost:8080/"
    },
    "id": "ln2PK3Yq7gaA",
    "outputId": "b33c68e3-6b72-4028-b3f2-1a3d7b2a24d8"
   },
   "outputs": [
    {
     "data": {
      "text/plain": [
       "0.7990255427120216"
      ]
     },
     "execution_count": 32,
     "metadata": {},
     "output_type": "execute_result"
    }
   ],
   "source": [
    "model.score(poly.transform(X_test),Y_test)"
   ]
  },
  {
   "cell_type": "code",
   "execution_count": 43,
   "metadata": {
    "colab": {
     "base_uri": "https://localhost:8080/"
    },
    "id": "Uhh5NF257SZ-",
    "outputId": "7711bc3b-51ef-497e-f40e-027c71e036d8"
   },
   "outputs": [
    {
     "name": "stdout",
     "output_type": "stream",
     "text": [
      "[6.09330016]\n"
     ]
    },
    {
     "name": "stderr",
     "output_type": "stream",
     "text": [
      "/home/utilisateur/Bureau/SARTORIS_mesures_des_tremblements_de_terre_sur_l_île_de_Fiji/venv/lib/python3.10/site-packages/sklearn/base.py:409: UserWarning:\n",
      "\n",
      "X does not have valid feature names, but PolynomialFeatures was fitted with feature names\n",
      "\n"
     ]
    }
   ],
   "source": [
    "# Convertir la liste en dataframe pandas\n",
    "#df = pd.DataFrame([[-15.94,184.95,306,11]])#4.3\n",
    "#df = pd.DataFrame([[-21.68,180.63,617,63]])#5 \n",
    "#df = pd.DataFrame([[-14.28,170.34,642,29]])#4.7\n",
    "#df = pd.DataFrame([[49.130111693866255, 2.2864298195198254,250,56]])\n",
    "df = pd.DataFrame([[-15.56, 167.62, 127, 122]]) #6.4\n",
    "\n",
    "# Effectuer une prédiction sur les données\n",
    "prediction = model.predict(poly.transform(df))\n",
    "\n",
    "print(prediction) "
   ]
  }
 ],
 "metadata": {
  "colab": {
   "collapsed_sections": [
    "I2qCjLQPf4Xc",
    "3UD93Wjuf8wz",
    "BBD-T4z1rJPg",
    "XlakW-o6c3ug",
    "KGjfvx3meJiw",
    "sSjX_AieyFdF"
   ],
   "provenance": []
  },
  "gpuClass": "standard",
  "kernelspec": {
   "display_name": "venv",
   "language": "python",
   "name": "python3"
  },
  "language_info": {
   "codemirror_mode": {
    "name": "ipython",
    "version": 3
   },
   "file_extension": ".py",
   "mimetype": "text/x-python",
   "name": "python",
   "nbconvert_exporter": "python",
   "pygments_lexer": "ipython3",
   "version": "3.10.7"
  },
  "vscode": {
   "interpreter": {
    "hash": "22b0221b65510675571ab4e7779f1a5291dd1bb01dd88f6d1089c3aa4ef0b1b0"
   }
  }
 },
 "nbformat": 4,
 "nbformat_minor": 1
}
