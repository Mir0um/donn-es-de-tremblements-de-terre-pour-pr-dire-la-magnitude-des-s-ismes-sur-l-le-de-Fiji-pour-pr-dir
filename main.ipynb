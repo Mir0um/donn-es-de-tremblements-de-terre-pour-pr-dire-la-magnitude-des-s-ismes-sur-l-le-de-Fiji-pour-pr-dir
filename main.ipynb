{
 "cells": [
  {
   "cell_type": "markdown",
   "metadata": {
    "id": "I2qCjLQPf4Xc"
   },
   "source": [
    "# packege python"
   ]
  },
  {
   "cell_type": "markdown",
   "metadata": {
    "id": "GlZIfS40k87A"
   },
   "source": [
    "telechagement de paquer reki"
   ]
  },
  {
   "cell_type": "code",
   "execution_count": null,
   "metadata": {
    "colab": {
     "base_uri": "https://localhost:8080/"
    },
    "id": "HqFghzcYdd2w",
    "outputId": "a3c26127-defa-4223-cbd9-72701f6d238d"
   },
   "outputs": [],
   "source": [
    "!pip insatll numpy\n",
    "!pip install pandas\n",
    "!pip install plotly\n",
    "!pip insatll sklearn\n",
    "!pip install nbformat\n",
    "!pip install geopandas\n",
    "!pip install contextily\n",
    "!pip install tensorflow\n",
    "!pip install matplotlib\n",
    "!pip install --upgrade nbformat"
   ]
  },
  {
   "cell_type": "markdown",
   "metadata": {
    "id": "NBS6f2telDBD"
   },
   "source": [
    "importation de packer"
   ]
  },
  {
   "cell_type": "code",
   "execution_count": null,
   "metadata": {
    "id": "Yjpm7wYRdrSZ"
   },
   "outputs": [],
   "source": [
    "import numpy as np\n",
    "import pandas as pd\n",
    "import geopandas as gpd\n",
    "import geopandas as gpd7\n",
    "import contextily as ctx\n",
    "import plotly.express as px\n",
    "import matplotlib.pyplot as plt\n",
    "from shapely.geometry import Point\n"
   ]
  },
  {
   "cell_type": "markdown",
   "metadata": {
    "id": "3UD93Wjuf8wz"
   },
   "source": [
    "# importation de la data et clearing\n"
   ]
  },
  {
   "cell_type": "markdown",
   "metadata": {
    "id": "rtZLirfi3lcT"
   },
   "source": [
    "charcgement da la data et afichage des premier lign."
   ]
  },
  {
   "cell_type": "code",
   "execution_count": null,
   "metadata": {
    "colab": {
     "base_uri": "https://localhost:8080/"
    },
    "id": "ZT1SaYT-gAXo",
    "outputId": "4859b0d5-2551-4e01-e973-293991d4e4ee"
   },
   "outputs": [],
   "source": [
    "data = pd.read_csv(\"https://jp-sartoris.online/data.csv\", sep=\";\") #df = pd.read_csv('https://raw.githubusercontent.com/plotly/datasets/master/earthquakes-23k.csv')\n",
    "data.head()"
   ]
  },
  {
   "cell_type": "markdown",
   "metadata": {
    "id": "istftfOnvzNr"
   },
   "source": [
    "verification si il ya des donner null"
   ]
  },
  {
   "cell_type": "code",
   "execution_count": null,
   "metadata": {
    "colab": {
     "base_uri": "https://localhost:8080/"
    },
    "id": "jxcjU4oSfVV4",
    "outputId": "fdb6c71f-66bc-4914-8905-fd6ebc0fb02a"
   },
   "outputs": [],
   "source": [
    "data.isnull().sum() #on verifi sa ya des null"
   ]
  },
  {
   "cell_type": "markdown",
   "metadata": {
    "id": "QcNy0HKiv67b"
   },
   "source": [
    "voir les propieter des donner"
   ]
  },
  {
   "cell_type": "code",
   "execution_count": null,
   "metadata": {
    "colab": {
     "base_uri": "https://localhost:8080/"
    },
    "id": "DC4VUlAprfaH",
    "outputId": "9fc05e48-8665-4852-c908-1038a6e63ed5"
   },
   "outputs": [],
   "source": [
    "data.info() #voir les infomraltion en +"
   ]
  },
  {
   "cell_type": "markdown",
   "metadata": {
    "id": "6I-JwBMLfH2k"
   },
   "source": [
    "# data visualitation"
   ]
  },
  {
   "cell_type": "markdown",
   "metadata": {
    "id": "8UDelLMJwEjr"
   },
   "source": [
    "vusualisation des outsateu et des moynne\n"
   ]
  },
  {
   "cell_type": "code",
   "execution_count": null,
   "metadata": {
    "colab": {
     "base_uri": "https://localhost:8080/",
     "height": 1000
    },
    "id": "xp0bNa2frQjr",
    "outputId": "0c74ba29-a7d9-4df0-f1fa-cdd486953404"
   },
   "outputs": [],
   "source": [
    "plt.boxplot([data[\"lat\"]])\n",
    "plt.title('lat')\n",
    "plt.show()\n",
    "\n",
    "plt.boxplot(data['long'])\n",
    "plt.title('long')\n",
    "plt.show()\n",
    "\n",
    "plt.boxplot(data['depth'])\n",
    "plt.title('depth')\n",
    "plt.show()\n",
    "\n",
    "plt.boxplot(data['mag'])\n",
    "plt.title('mag')\n",
    "plt.show()\n",
    "\n",
    "plt.boxplot(data['stations'])\n",
    "plt.title('sations')\n",
    "plt.show()\n"
   ]
  },
  {
   "cell_type": "code",
   "execution_count": null,
   "metadata": {
    "colab": {
     "base_uri": "https://localhost:8080/",
     "height": 519
    },
    "id": "jZd9wYigz7L5",
    "outputId": "cdafbc47-38aa-4de1-f197-00aec942a292"
   },
   "outputs": [],
   "source": [
    "plt.figure(figsize=(15, 10))\n",
    "fd = data[[\"mag\",\"depth\"]]\n",
    "fd = fd.groupby([\"mag\"]).count()\n",
    "plt.plot(fd)\n",
    "\n",
    "plt.ylabel('nombre de seisme')\n",
    "plt.xlabel('magnetude')\n",
    "plt.title('nombre de sceisme pas magetude')"
   ]
  },
  {
   "cell_type": "code",
   "execution_count": null,
   "metadata": {},
   "outputs": [],
   "source": [
    "data.loc[data['mag'] > 6].values"
   ]
  },
  {
   "cell_type": "code",
   "execution_count": null,
   "metadata": {
    "colab": {
     "base_uri": "https://localhost:8080/",
     "height": 518
    },
    "id": "9w6w36kSYMK6",
    "outputId": "51f6513f-6528-43aa-e39d-1593db173550"
   },
   "outputs": [],
   "source": [
    "plt.figure(figsize=(15, 10))\n",
    "fd = data[[\"mag\",\"depth\"]]\n",
    "fd = fd.groupby([\"mag\"]).mean() #.mean()\n",
    "plt.plot(fd)\n",
    "\n",
    "plt.ylabel('profondeur en KM')\n",
    "plt.xlabel('magnetude')\n",
    "plt.title('magnetute en fonction de le profondeur')"
   ]
  },
  {
   "cell_type": "code",
   "execution_count": null,
   "metadata": {
    "colab": {
     "base_uri": "https://localhost:8080/",
     "height": 521
    },
    "id": "RYHdUvG2uNVd",
    "outputId": "6c55099b-ee7b-47e0-823b-de26668aab1f"
   },
   "outputs": [],
   "source": [
    "plt.figure(figsize=(15, 10))\n",
    "\n",
    "fd = data[[\"mag\",\"stations\"]]\n",
    "fd = fd.groupby([\"stations\"]).mean()\n",
    "plt.plot(fd)\n",
    "\n",
    "plt.ylabel('magnedude')\n",
    "plt.xlabel('nombre de startions')\n",
    "plt.title('nonbre de station qui on resentie le sceism en par magnetude')"
   ]
  },
  {
   "cell_type": "code",
   "execution_count": null,
   "metadata": {
    "colab": {
     "base_uri": "https://localhost:8080/",
     "height": 282
    },
    "id": "07J_41tnfWzr",
    "outputId": "eeb48acb-b005-4fb0-bef1-c71a4ce29bb6"
   },
   "outputs": [],
   "source": [
    "\n",
    "\n",
    "# Create the GeoDataFrame\n",
    "gdf = gpd.GeoDataFrame(\n",
    "    {'lon': data[\"long\"], 'lat': data[\"lat\"]},\n",
    "    geometry=gpd.points_from_xy(data[\"long\"], data[\"lat\"]))\n",
    "\n",
    "# Plot the data\n",
    "\n",
    "ax = gdf.plot(markersize=3)\n",
    "\n",
    "# Add a map as the background and zoom in to level 15\n",
    "ctx.add_basemap(ax, zoom=15, crs=gdf.crs)\n",
    "# Show the plot\n",
    "plt.show()\n"
   ]
  },
  {
   "cell_type": "markdown",
   "metadata": {
    "id": "MW9BZSmA_s6M"
   },
   "source": []
  },
  {
   "cell_type": "markdown",
   "metadata": {
    "id": "5NipISKFkmfk"
   },
   "source": [
    "-33.63969241783398, *150.95048848561237*"
   ]
  },
  {
   "cell_type": "code",
   "execution_count": null,
   "metadata": {
    "colab": {
     "base_uri": "https://localhost:8080/",
     "height": 637
    },
    "id": "6MgkAK9mobqN",
    "outputId": "ba1b1e55-fa86-465e-e812-1eaf033d34a5"
   },
   "outputs": [],
   "source": [
    "fig = px.density_mapbox(data, lat='lat', lon='long', radius=9,\n",
    "                        center=dict(lat=-25.78, lon=177.72), zoom=2,\n",
    "                        #mapbox_style=\"white-bg\"\n",
    "                        ) #stamen-terrain\n",
    "\n",
    "fig.update_layout(\n",
    "    mapbox_style=\"white-bg\",\n",
    "    mapbox_layers=[\n",
    "        {\n",
    "            \"below\": 'traces',\n",
    "            \"sourcetype\": \"raster\",\n",
    "            \"sourceattribution\": \"United States Geological Survey\",\n",
    "            \"source\": [\n",
    "                \"https://basemap.nationalmap.gov/arcgis/rest/services/USGSImageryOnly/MapServer/tile/{z}/{y}/{x}\"\n",
    "            ]\n",
    "        }\n",
    "      ])\n",
    "\n",
    "fig.update_layout(width=800, height=600)\n",
    "\n",
    "fig.update_layout(title='repartution sur la carte', title_x=0.5, title_font=dict(size=25, family='Arial, sans-serif'))\n",
    "\n",
    "fig.show()"
   ]
  },
  {
   "cell_type": "markdown",
   "metadata": {
    "id": "BBD-T4z1rJPg"
   },
   "source": [
    "# = preparation des data au fit model IA =\n"
   ]
  },
  {
   "cell_type": "code",
   "execution_count": null,
   "metadata": {
    "id": "xCBsGcAd6bQn"
   },
   "outputs": [],
   "source": [
    "from sklearn.model_selection import train_test_split\n",
    "from keras.models import Sequential\n",
    "from keras.layers import Dense\n",
    "\n",
    "from sklearn.ensemble import RandomForestRegressor\n",
    "from sklearn.model_selection import cross_val_score\n",
    "\n",
    "from sklearn.linear_model import LinearRegression\n",
    "from sklearn.preprocessing import PolynomialFeatures\n",
    "\n",
    "from sklearn.linear_model import LogisticRegression"
   ]
  },
  {
   "cell_type": "code",
   "execution_count": null,
   "metadata": {
    "colab": {
     "base_uri": "https://localhost:8080/",
     "height": 0
    },
    "id": "ucdXRvmZhQri",
    "outputId": "e1e29381-93ca-4ace-cbd8-a1e4943ab064"
   },
   "outputs": [],
   "source": [
    "data = pd.read_csv(\"https://jp-sartoris.online/data.csv\", sep=\";\") #df = pd.read_csv('https://raw.githubusercontent.com/plotly/datasets/master/earthquakes-23k.csv')\n",
    "data.head()"
   ]
  },
  {
   "cell_type": "code",
   "execution_count": null,
   "metadata": {
    "colab": {
     "base_uri": "https://localhost:8080/"
    },
    "id": "vEuYST2K6g5f",
    "outputId": "14f6b8d2-9dbf-4b8d-e413-334c1ccbc13a"
   },
   "outputs": [],
   "source": [
    "X = data.drop(labels=\"mag\", axis=1)\n",
    "Y = data['mag']\n",
    "\n",
    "X_train,X_test,Y_train,Y_test = train_test_split(X,Y,test_size=0.2,random_state=0)\n",
    "\n",
    "X_train,Y_train,X_train.shape, X_test.shape"
   ]
  },
  {
   "cell_type": "markdown",
   "metadata": {
    "id": "XlakW-o6c3ug"
   },
   "source": [
    "# ANN"
   ]
  },
  {
   "cell_type": "code",
   "execution_count": null,
   "metadata": {
    "id": "pLSda6Xn9xw8"
   },
   "outputs": [],
   "source": [
    "# Création d'un modèle séquentiel\n",
    "model = Sequential()\n",
    "\n",
    "# Ajout de la première couche de neuronne cachée avec une fonction d'activation relu\n",
    "model.add(Dense(units=2048, activation='relu', input_dim=4))\n",
    "\n",
    "# Ajout de la première couche de neuronne cachée avec une fonction d'activation relu\n",
    "model.add(Dense(units=1024, activation='relu'))\n",
    "\n",
    "# Ajout de la deuxième couche de neuronne cachée avec une fonction d'activation relu\n",
    "model.add(Dense(units=512, activation='relu'))\n",
    "\n",
    "# Ajout de la deuxième couche de neuronne cachée avec une fonction d'activation relu\n",
    "model.add(Dense(units=256, activation='relu'))\n",
    "\n",
    "# Ajout de la deuxième couche de neuronne cachée avec une fonction d'activation relu\n",
    "model.add(Dense(units=128, activation='relu'))\n",
    "\n",
    "# Ajout de la deuxième couche de neuronne cachée avec une fonction d'activation relu\n",
    "model.add(Dense(units=64, activation='relu'))\n",
    "\n",
    "# Ajout de la deuxième couche de neuronne cachée avec une fonction d'activation relu\n",
    "model.add(Dense(units=32, activation='relu'))\n",
    "\n",
    "# Ajout de la deuxième couche de neuronne cachée avec une fonction d'activation relu\n",
    "model.add(Dense(units=16, activation='relu'))\n",
    "\n",
    "# Ajout de la deuxième couche de neuronne cachée avec une fonction d'activation relu\n",
    "model.add(Dense(units=8, activation='relu'))\n",
    "\n",
    "# Ajout de la deuxième couche de neuronne cachée avec une fonction d'activation relu\n",
    "model.add(Dense(units=4, activation='relu'))\n",
    "\n",
    "# Ajout de la deuxième couche de neuronne cachée avec une fonction d'activation relu\n",
    "model.add(Dense(units=2, activation='relu'))\n",
    "\n",
    "# Ajout de la couche de neuronne de sortie avec une fonction d'activation sigmoïde\n",
    "model.add(Dense(units=1)) #activation=' ' )) sigmoid softmax relu\n",
    "\n",
    "# Compilation du modèle avec une fonction de coût log loss et un optimiseur Adam\n",
    "model.compile(loss='binary_crossentropy', optimizer='adam', metrics=['accuracy'])"
   ]
  },
  {
   "cell_type": "code",
   "execution_count": null,
   "metadata": {
    "colab": {
     "base_uri": "https://localhost:8080/"
    },
    "id": "26M4XiWi-CZv",
    "outputId": "1eb7a885-193c-45f0-dde7-fe8afcca7d73"
   },
   "outputs": [],
   "source": [
    "#model.fit(X_train, Y_train, batch_size=32,epochs = 100, validation_data=(X_test,Y_test))"
   ]
  },
  {
   "cell_type": "code",
   "execution_count": null,
   "metadata": {
    "colab": {
     "base_uri": "https://localhost:8080/"
    },
    "id": "pW83FsmYYNO_",
    "outputId": "707d9f30-10a7-4b51-f2f4-64ef37242e9e"
   },
   "outputs": [],
   "source": [
    "# Convertir la liste en dataframe pandas\n",
    "#df = pd.DataFrame([[-15.94,184.95,306,11]])#4.3\n",
    "#df = pd.DataFrame([[-21.68,180.63,617,63]])#5 \n",
    "df = pd.DataFrame([[-14.28,170.34,642,29]])#4.7\n",
    "#df = pd.DataFrame([[49.130111693866255, 2.2864298195198254,250,56]])\n",
    "\n",
    "# Effectuer une prédiction sur les données\n",
    "prediction = model.predict(df)\n",
    "\n",
    "print(prediction) "
   ]
  },
  {
   "cell_type": "markdown",
   "metadata": {
    "id": "NokFHC9W2yZ6"
   },
   "source": []
  },
  {
   "cell_type": "markdown",
   "metadata": {
    "id": "KGjfvx3meJiw"
   },
   "source": [
    "# LinearRegression\n"
   ]
  },
  {
   "cell_type": "code",
   "execution_count": null,
   "metadata": {
    "id": "DTC1wNMjeQnn"
   },
   "outputs": [],
   "source": [
    "from sklearn.linear_model import LinearRegression\n",
    "from sklearn.model_selection import cross_val_score"
   ]
  },
  {
   "cell_type": "code",
   "execution_count": null,
   "metadata": {
    "colab": {
     "base_uri": "https://localhost:8080/"
    },
    "id": "iaCR7AWGgPOZ",
    "outputId": "4eda84dd-1e31-4bd4-8a87-4fdea9f15cc8"
   },
   "outputs": [],
   "source": [
    "linmodel = LinearRegression().fit(X_train, Y_train) \n",
    "linmodel.fit(X_train, Y_train)\n",
    "linmodel.score(X_train, Y_train)"
   ]
  },
  {
   "cell_type": "code",
   "execution_count": null,
   "metadata": {
    "colab": {
     "base_uri": "https://localhost:8080/"
    },
    "id": "JiMjqFnDh0CO",
    "outputId": "4633f2f5-d6c5-44b4-8227-96953d17055a"
   },
   "outputs": [],
   "source": [
    "linmodel.score(X_test,Y_test)"
   ]
  },
  {
   "cell_type": "code",
   "execution_count": null,
   "metadata": {
    "colab": {
     "base_uri": "https://localhost:8080/"
    },
    "id": "_L19EJ5oyzfF",
    "outputId": "d368a6c8-7253-49a0-c540-fa8782019ace"
   },
   "outputs": [],
   "source": [
    "cross_val_score(linmodel,X_test, Y_test, cv=5)"
   ]
  },
  {
   "cell_type": "code",
   "execution_count": null,
   "metadata": {
    "colab": {
     "base_uri": "https://localhost:8080/"
    },
    "id": "gvt-O9Hf3_41",
    "outputId": "d806cbdf-edbf-4762-f81c-0763c905a38a"
   },
   "outputs": [],
   "source": [
    "# Convertir la liste en dataframe pandas\n",
    "#df = pd.DataFrame([[-15.94,184.95,306,11]])#4.3\n",
    "#df = pd.DataFrame([[-21.68,180.63,617,63]])#5 \n",
    "#df = pd.DataFrame([[-14.28,170.34,642,29]])#4.7\n",
    "#df = pd.DataFrame([[49.130111693866255, 2.2864298195198254,250,56]])\n",
    "df = pd.DataFrame([[-15.56, 167.62, 127, 122]]) #6.4\n",
    "\n",
    "# Effectuer une prédiction sur les données\n",
    "prediction = model.predict(df)\n",
    "\n",
    "print(prediction)"
   ]
  },
  {
   "cell_type": "markdown",
   "metadata": {
    "id": "U4Gr5Vaph9vN"
   },
   "source": [
    "============================================"
   ]
  },
  {
   "cell_type": "markdown",
   "metadata": {
    "id": "sSjX_AieyFdF"
   },
   "source": [
    "# random forest"
   ]
  },
  {
   "cell_type": "code",
   "execution_count": null,
   "metadata": {
    "colab": {
     "base_uri": "https://localhost:8080/"
    },
    "id": "wCGy4-gcxgEh",
    "outputId": "20801ca8-23c4-40c0-ed06-724019c1b92b"
   },
   "outputs": [],
   "source": [
    "grid_search_mod = 0\n",
    "if grid_search_mod == 0:\n",
    "  rf = RandomForestRegressor(max_depth=7, min_samples_split=22, n_estimators = 185, random_state = 1)\n",
    "\n",
    "  rf.fit(X_train, Y_train)\n",
    "\n",
    "  y_pred=rf.predict(X_test)\n",
    "  print(rf.score(X_train,Y_train))\n",
    "else:\n",
    "  param_grid = {\n",
    "    'n_estimators': range(180,190),\n",
    "    'max_depth': range(0,10),\n",
    "    'min_samples_split': range(20,30)\n",
    "  }\n",
    "\n",
    "  from sklearn.model_selection import GridSearchCV\n",
    "  rf = RandomForestRegressor()\n",
    "  grid_search = GridSearchCV(estimator = rf, param_grid = param_grid, cv = 3, n_jobs = -1, verbose = 1)\n",
    "  grid_search.fit(X_train, Y_train)\n",
    "  print(grid_search.best_params_)"
   ]
  },
  {
   "cell_type": "code",
   "execution_count": null,
   "metadata": {
    "colab": {
     "base_uri": "https://localhost:8080/"
    },
    "id": "9R-dI4RskRhc",
    "outputId": "ee2c746b-c2be-404f-868e-00cd13f75dce"
   },
   "outputs": [],
   "source": [
    "rf.score(X_test,Y_test)"
   ]
  },
  {
   "cell_type": "code",
   "execution_count": null,
   "metadata": {
    "colab": {
     "base_uri": "https://localhost:8080/"
    },
    "id": "hwUoG9mFlf7g",
    "outputId": "f75f9c17-d921-400d-ee92-35b255219152"
   },
   "outputs": [],
   "source": [
    "cross_val_score(rf,X_test, Y_test, cv=5)"
   ]
  },
  {
   "cell_type": "code",
   "execution_count": null,
   "metadata": {
    "colab": {
     "base_uri": "https://localhost:8080/"
    },
    "id": "N8K5sogwkXxg",
    "outputId": "f61d2a89-0026-4f8b-f92c-2c38eb4381de"
   },
   "outputs": [],
   "source": [
    "# Convertir la liste en dataframe pandas\n",
    "#df = pd.DataFrame([[-15.94,184.95,306,11]])#4.3\n",
    "#df = pd.DataFrame([[-21.68,180.63,617,63]])#5 \n",
    "#df = pd.DataFrame([[-14.28,170.34,642,29]])#4.7\n",
    "#df = pd.DataFrame([[49.130111693866255, 2.2864298195198254,250,56]])\n",
    "df = pd.DataFrame([[-15.56, 167.62, 127, 122]]) #6.4\n",
    "\n",
    "# Effectuer une prédiction sur les données\n",
    "prediction = rf.predict(df)\n",
    "\n",
    "print(prediction) "
   ]
  },
  {
   "cell_type": "code",
   "execution_count": null,
   "metadata": {
    "colab": {
     "base_uri": "https://localhost:8080/"
    },
    "id": "IpmUP_tj1BUj",
    "outputId": "7bf6be6d-9ce1-466c-a8b9-21f6c70e67f7"
   },
   "outputs": [],
   "source": [
    "from joblib import dump\n",
    "# Sauvegarder le modèle\n",
    "dump(rf, 'model.joblib')"
   ]
  },
  {
   "cell_type": "markdown",
   "metadata": {
    "id": "wtv88ZOE0l4O"
   },
   "source": [
    "# Polynomial Regression"
   ]
  },
  {
   "cell_type": "code",
   "execution_count": null,
   "metadata": {
    "id": "DOoE-d3E1ku8"
   },
   "outputs": [],
   "source": [
    "from sklearn.preprocessing import PolynomialFeatures"
   ]
  },
  {
   "cell_type": "code",
   "execution_count": null,
   "metadata": {
    "colab": {
     "base_uri": "https://localhost:8080/"
    },
    "id": "JEUYTrsi3X6w",
    "outputId": "fd56c537-527d-4c97-995b-78f7f783c6f6"
   },
   "outputs": [],
   "source": [
    "# Transformer les données en termes polynomiaux\n",
    "poly = PolynomialFeatures(degree=3)\n",
    "x_poly = poly.fit_transform(X_train)\n",
    "\n",
    "# Entraîner le modèle de régression polynomiale\n",
    "model = LinearRegression()\n",
    "model.fit(x_poly, Y_train)"
   ]
  },
  {
   "cell_type": "code",
   "execution_count": null,
   "metadata": {
    "colab": {
     "base_uri": "https://localhost:8080/"
    },
    "id": "lLj3mlxk67Fq",
    "outputId": "3b5bc655-b276-4ba1-b292-58de6868257e"
   },
   "outputs": [],
   "source": [
    "cross_val_score(model,X_test, Y_test, cv=5)"
   ]
  },
  {
   "cell_type": "code",
   "execution_count": null,
   "metadata": {
    "colab": {
     "base_uri": "https://localhost:8080/"
    },
    "id": "ln2PK3Yq7gaA",
    "outputId": "b33c68e3-6b72-4028-b3f2-1a3d7b2a24d8"
   },
   "outputs": [],
   "source": [
    "model.score(poly.transform(X_test),Y_test)"
   ]
  },
  {
   "cell_type": "code",
   "execution_count": null,
   "metadata": {
    "colab": {
     "base_uri": "https://localhost:8080/"
    },
    "id": "Uhh5NF257SZ-",
    "outputId": "7711bc3b-51ef-497e-f40e-027c71e036d8"
   },
   "outputs": [],
   "source": [
    "# Convertir la liste en dataframe pandas\n",
    "#df = pd.DataFrame([[-15.94,184.95,306,11]])#4.3\n",
    "#df = pd.DataFrame([[-21.68,180.63,617,63]])#5 \n",
    "#df = pd.DataFrame([[-14.28,170.34,642,29]])#4.7\n",
    "#df = pd.DataFrame([[49.130111693866255, 2.2864298195198254,250,56]])\n",
    "df = pd.DataFrame([[-15.56, 167.62, 127, 122]]) #6.4\n",
    "\n",
    "# Effectuer une prédiction sur les données\n",
    "prediction = model.predict(poly.transform(df))\n",
    "\n",
    "print(prediction) "
   ]
  }
 ],
 "metadata": {
  "colab": {
   "collapsed_sections": [
    "I2qCjLQPf4Xc",
    "3UD93Wjuf8wz",
    "BBD-T4z1rJPg",
    "XlakW-o6c3ug",
    "KGjfvx3meJiw",
    "sSjX_AieyFdF"
   ],
   "provenance": []
  },
  "gpuClass": "standard",
  "kernelspec": {
   "display_name": "Python 3 (ipykernel)",
   "language": "python",
   "name": "python3"
  },
  "language_info": {
   "codemirror_mode": {
    "name": "ipython",
    "version": 3
   },
   "file_extension": ".py",
   "mimetype": "text/x-python",
   "name": "python",
   "nbconvert_exporter": "python",
   "pygments_lexer": "ipython3",
   "version": "3.10.7 (main, Nov 24 2022, 19:45:47) [GCC 12.2.0]"
  },
  "vscode": {
   "interpreter": {
    "hash": "22b0221b65510675571ab4e7779f1a5291dd1bb01dd88f6d1089c3aa4ef0b1b0"
   }
  }
 },
 "nbformat": 4,
 "nbformat_minor": 1
}
